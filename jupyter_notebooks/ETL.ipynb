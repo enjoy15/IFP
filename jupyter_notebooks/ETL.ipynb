{
  "cells": [
    {
      "cell_type": "markdown",
      "metadata": {
        "id": "0aStgWSO0E0E"
      },
      "source": [
        "## ONLINE RETAIL TRANSACTION ANALYSIS - ETL"
      ]
    },
    {
      "cell_type": "markdown",
      "metadata": {},
      "source": [
        "Data source: https://www.kaggle.com/datasets/abhishekrp1517/online-retail-transactions-dataset \n",
        "\n",
        "## Data analysis goals\n",
        "\n",
        "Analyse online retail transaction data to understand customer behaviour, identify popular products, and optimise pricing and marketing strategies. Provide insights into customer behaviour, popular products, and pricing strategies to improve sales and marketing efforts.\n",
        "\n",
        "## Context\n",
        "\n",
        "The \"Online Retail Transaction\" dataset contains information on customer transactions made through an online retail platform. It includes data on products purchased, quantities, transaction dates and times, prices, customer identifiers, and customer locations. This dataset can be used to analyse customer behaviour and preferences, identify popular products, and optimise pricing and marketing strategies."
      ]
    },
    {
      "cell_type": "markdown",
      "metadata": {
        "id": "9uWZXH9LwoQg"
      },
      "source": [
        "---"
      ]
    },
    {
      "cell_type": "markdown",
      "metadata": {
        "id": "cqP-UeN-z3i2"
      },
      "source": [
        "# ETL Pipeline (Extract, Transform, Load)"
      ]
    },
    {
      "cell_type": "markdown",
      "metadata": {},
      "source": [
        "Import Packages"
      ]
    },
    {
      "cell_type": "code",
      "execution_count": 2,
      "metadata": {
        "id": "wZfF_j-Bz3i4",
        "outputId": "66943449-1436-4c3d-85c7-b85f9f78349b"
      },
      "outputs": [],
      "source": [
        "import numpy as np\n",
        "import pandas as pd"
      ]
    },
    {
      "cell_type": "markdown",
      "metadata": {},
      "source": [
        "Get current working directory"
      ]
    },
    {
      "cell_type": "code",
      "execution_count": 3,
      "metadata": {},
      "outputs": [
        {
          "data": {
            "text/plain": [
              "'c:\\\\Users\\\\Joy\\\\Desktop\\\\Code Institute\\\\IFP\\\\jupyter_notebooks'"
            ]
          },
          "execution_count": 3,
          "metadata": {},
          "output_type": "execute_result"
        }
      ],
      "source": [
        "import os\n",
        "current_dir = os.getcwd()\n",
        "current_dir"
      ]
    },
    {
      "cell_type": "markdown",
      "metadata": {
        "id": "9MWW8E7lz3i7"
      },
      "source": [
        "Make the parent of the current directory the new current directory\n",
        "* os.path.dirname() gets the parent directory\n",
        "* os.chir() defines the new current directory"
      ]
    },
    {
      "cell_type": "code",
      "execution_count": 4,
      "metadata": {
        "id": "TwHsQRWjz3i9",
        "outputId": "86849db3-cd2f-4cc5-ebb8-2d0caafa1a2c"
      },
      "outputs": [],
      "source": [
        "os.chdir(os.path.dirname(current_dir))\n",
        "current_dir = os.getcwd()"
      ]
    },
    {
      "cell_type": "code",
      "execution_count": 5,
      "metadata": {},
      "outputs": [
        {
          "data": {
            "text/plain": [
              "'c:\\\\Users\\\\Joy\\\\Desktop\\\\Code Institute\\\\IFP\\\\dataset\\\\raw\\\\Online_Retail.csv'"
            ]
          },
          "execution_count": 5,
          "metadata": {},
          "output_type": "execute_result"
        }
      ],
      "source": [
        "input_file_path = current_dir+'\\\\dataset\\\\raw\\\\Online_Retail.csv'\n",
        "processed_file_path = current_dir+'\\\\dataset\\\\processed\\\\Online_Retail_Processed.csv'\n",
        "input_file_path"
      ]
    },
    {
      "cell_type": "markdown",
      "metadata": {
        "id": "-mavJ8DibrcQ"
      },
      "source": [
        "## E (Extraction): Load data from the provided dataset"
      ]
    },
    {
      "cell_type": "markdown",
      "metadata": {},
      "source": [
        "Load the dataset"
      ]
    },
    {
      "cell_type": "code",
      "execution_count": 6,
      "metadata": {},
      "outputs": [
        {
          "data": {
            "application/vnd.microsoft.datawrangler.viewer.v0+json": {
              "columns": [
                {
                  "name": "index",
                  "rawType": "int64",
                  "type": "integer"
                },
                {
                  "name": "InvoiceNo",
                  "rawType": "object",
                  "type": "string"
                },
                {
                  "name": "StockCode",
                  "rawType": "object",
                  "type": "string"
                },
                {
                  "name": "Description",
                  "rawType": "object",
                  "type": "unknown"
                },
                {
                  "name": "Quantity",
                  "rawType": "int64",
                  "type": "integer"
                },
                {
                  "name": "InvoiceDate",
                  "rawType": "object",
                  "type": "string"
                },
                {
                  "name": "UnitPrice",
                  "rawType": "float64",
                  "type": "float"
                },
                {
                  "name": "CustomerID",
                  "rawType": "int64",
                  "type": "integer"
                },
                {
                  "name": "Country",
                  "rawType": "object",
                  "type": "string"
                }
              ],
              "ref": "f4a79dac-efe8-4410-a242-3c608c6b67df",
              "rows": [
                [
                  "0",
                  "536365",
                  "85123A",
                  "WHITE HANGING HEART T-LIGHT HOLDER",
                  "6",
                  "2010-12-01 08:26:00",
                  "2.55",
                  "17850",
                  "United Kingdom"
                ],
                [
                  "1",
                  "536365",
                  "71053",
                  "WHITE METAL LANTERN",
                  "6",
                  "2010-12-01 08:26:00",
                  "3.39",
                  "17850",
                  "United Kingdom"
                ],
                [
                  "2",
                  "536365",
                  "84406B",
                  "CREAM CUPID HEARTS COAT HANGER",
                  "8",
                  "2010-12-01 08:26:00",
                  "2.75",
                  "17850",
                  "United Kingdom"
                ],
                [
                  "3",
                  "536365",
                  "84029G",
                  "KNITTED UNION FLAG HOT WATER BOTTLE",
                  "6",
                  "2010-12-01 08:26:00",
                  "3.39",
                  "17850",
                  "United Kingdom"
                ],
                [
                  "4",
                  "536365",
                  "84029E",
                  "RED WOOLLY HOTTIE WHITE HEART.",
                  "6",
                  "2010-12-01 08:26:00",
                  "3.39",
                  "17850",
                  "United Kingdom"
                ],
                [
                  "5",
                  "536365",
                  "22752",
                  "SET 7 BABUSHKA NESTING BOXES",
                  "2",
                  "2010-12-01 08:26:00",
                  "7.65",
                  "17850",
                  "United Kingdom"
                ],
                [
                  "6",
                  "536365",
                  "21730",
                  "GLASS STAR FROSTED T-LIGHT HOLDER",
                  "6",
                  "2010-12-01 08:26:00",
                  "4.25",
                  "17850",
                  "United Kingdom"
                ],
                [
                  "7",
                  "536366",
                  "22633",
                  "HAND WARMER UNION JACK",
                  "6",
                  "2010-12-01 08:28:00",
                  "1.85",
                  "17850",
                  "United Kingdom"
                ],
                [
                  "8",
                  "536366",
                  "22632",
                  "HAND WARMER RED POLKA DOT",
                  "6",
                  "2010-12-01 08:28:00",
                  "1.85",
                  "17850",
                  "United Kingdom"
                ],
                [
                  "9",
                  "536367",
                  "84879",
                  "ASSORTED COLOUR BIRD ORNAMENT",
                  "32",
                  "2010-12-01 08:34:00",
                  "1.69",
                  "13047",
                  "United Kingdom"
                ],
                [
                  "10",
                  "536367",
                  "22745",
                  "POPPY'S PLAYHOUSE BEDROOM ",
                  "6",
                  "2010-12-01 08:34:00",
                  "2.1",
                  "13047",
                  "United Kingdom"
                ],
                [
                  "11",
                  "536367",
                  "22748",
                  "POPPY'S PLAYHOUSE KITCHEN",
                  "6",
                  "2010-12-01 08:34:00",
                  "2.1",
                  "13047",
                  "United Kingdom"
                ],
                [
                  "12",
                  "536367",
                  "22749",
                  "FELTCRAFT PRINCESS CHARLOTTE DOLL",
                  "8",
                  "2010-12-01 08:34:00",
                  "3.75",
                  "13047",
                  "United Kingdom"
                ],
                [
                  "13",
                  "536367",
                  "22310",
                  "IVORY KNITTED MUG COSY ",
                  "6",
                  "2010-12-01 08:34:00",
                  "1.65",
                  "13047",
                  "United Kingdom"
                ],
                [
                  "14",
                  "536367",
                  "84969",
                  "BOX OF 6 ASSORTED COLOUR TEASPOONS",
                  "6",
                  "2010-12-01 08:34:00",
                  "4.25",
                  "13047",
                  "United Kingdom"
                ],
                [
                  "15",
                  "536367",
                  "22623",
                  "BOX OF VINTAGE JIGSAW BLOCKS ",
                  "3",
                  "2010-12-01 08:34:00",
                  "4.95",
                  "13047",
                  "United Kingdom"
                ],
                [
                  "16",
                  "536367",
                  "22622",
                  "BOX OF VINTAGE ALPHABET BLOCKS",
                  "2",
                  "2010-12-01 08:34:00",
                  "9.95",
                  "13047",
                  "United Kingdom"
                ],
                [
                  "17",
                  "536367",
                  "21754",
                  "HOME BUILDING BLOCK WORD",
                  "3",
                  "2010-12-01 08:34:00",
                  "5.95",
                  "13047",
                  "United Kingdom"
                ],
                [
                  "18",
                  "536367",
                  "21755",
                  "LOVE BUILDING BLOCK WORD",
                  "3",
                  "2010-12-01 08:34:00",
                  "5.95",
                  "13047",
                  "United Kingdom"
                ],
                [
                  "19",
                  "536367",
                  "21777",
                  "RECIPE BOX WITH METAL HEART",
                  "4",
                  "2010-12-01 08:34:00",
                  "7.95",
                  "13047",
                  "United Kingdom"
                ],
                [
                  "20",
                  "536367",
                  "48187",
                  "DOORMAT NEW ENGLAND",
                  "4",
                  "2010-12-01 08:34:00",
                  "7.95",
                  "13047",
                  "United Kingdom"
                ],
                [
                  "21",
                  "536368",
                  "22960",
                  "JAM MAKING SET WITH JARS",
                  "6",
                  "2010-12-01 08:34:00",
                  "4.25",
                  "13047",
                  "United Kingdom"
                ],
                [
                  "22",
                  "536368",
                  "22913",
                  "RED COAT RACK PARIS FASHION",
                  "3",
                  "2010-12-01 08:34:00",
                  "4.95",
                  "13047",
                  "United Kingdom"
                ],
                [
                  "23",
                  "536368",
                  "22912",
                  "YELLOW COAT RACK PARIS FASHION",
                  "3",
                  "2010-12-01 08:34:00",
                  "4.95",
                  "13047",
                  "United Kingdom"
                ],
                [
                  "24",
                  "536368",
                  "22914",
                  "BLUE COAT RACK PARIS FASHION",
                  "3",
                  "2010-12-01 08:34:00",
                  "4.95",
                  "13047",
                  "United Kingdom"
                ],
                [
                  "25",
                  "536369",
                  "21756",
                  "BATH BUILDING BLOCK WORD",
                  "3",
                  "2010-12-01 08:35:00",
                  "5.95",
                  "13047",
                  "United Kingdom"
                ],
                [
                  "26",
                  "536370",
                  "22728",
                  "ALARM CLOCK BAKELIKE PINK",
                  "24",
                  "2010-12-01 08:45:00",
                  "3.75",
                  "12583",
                  "France"
                ],
                [
                  "27",
                  "536370",
                  "22727",
                  "ALARM CLOCK BAKELIKE RED ",
                  "24",
                  "2010-12-01 08:45:00",
                  "3.75",
                  "12583",
                  "France"
                ],
                [
                  "28",
                  "536370",
                  "22726",
                  "ALARM CLOCK BAKELIKE GREEN",
                  "12",
                  "2010-12-01 08:45:00",
                  "3.75",
                  "12583",
                  "France"
                ],
                [
                  "29",
                  "536370",
                  "21724",
                  "PANDA AND BUNNIES STICKER SHEET",
                  "12",
                  "2010-12-01 08:45:00",
                  "0.85",
                  "12583",
                  "France"
                ],
                [
                  "30",
                  "536370",
                  "21883",
                  "STARS GIFT TAPE ",
                  "24",
                  "2010-12-01 08:45:00",
                  "0.65",
                  "12583",
                  "France"
                ],
                [
                  "31",
                  "536370",
                  "10002",
                  "INFLATABLE POLITICAL GLOBE ",
                  "48",
                  "2010-12-01 08:45:00",
                  "0.85",
                  "12583",
                  "France"
                ],
                [
                  "32",
                  "536370",
                  "21791",
                  "VINTAGE HEADS AND TAILS CARD GAME ",
                  "24",
                  "2010-12-01 08:45:00",
                  "1.25",
                  "12583",
                  "France"
                ],
                [
                  "33",
                  "536370",
                  "21035",
                  "SET/2 RED RETROSPOT TEA TOWELS ",
                  "18",
                  "2010-12-01 08:45:00",
                  "2.95",
                  "12583",
                  "France"
                ],
                [
                  "34",
                  "536370",
                  "22326",
                  "ROUND SNACK BOXES SET OF4 WOODLAND ",
                  "24",
                  "2010-12-01 08:45:00",
                  "2.95",
                  "12583",
                  "France"
                ],
                [
                  "35",
                  "536370",
                  "22629",
                  "SPACEBOY LUNCH BOX ",
                  "24",
                  "2010-12-01 08:45:00",
                  "1.95",
                  "12583",
                  "France"
                ],
                [
                  "36",
                  "536370",
                  "22659",
                  "LUNCH BOX I LOVE LONDON",
                  "24",
                  "2010-12-01 08:45:00",
                  "1.95",
                  "12583",
                  "France"
                ],
                [
                  "37",
                  "536370",
                  "22631",
                  "CIRCUS PARADE LUNCH BOX ",
                  "24",
                  "2010-12-01 08:45:00",
                  "1.95",
                  "12583",
                  "France"
                ],
                [
                  "38",
                  "536370",
                  "22661",
                  "CHARLOTTE BAG DOLLY GIRL DESIGN",
                  "20",
                  "2010-12-01 08:45:00",
                  "0.85",
                  "12583",
                  "France"
                ],
                [
                  "39",
                  "536370",
                  "21731",
                  "RED TOADSTOOL LED NIGHT LIGHT",
                  "24",
                  "2010-12-01 08:45:00",
                  "1.65",
                  "12583",
                  "France"
                ],
                [
                  "40",
                  "536370",
                  "22900",
                  " SET 2 TEA TOWELS I LOVE LONDON ",
                  "24",
                  "2010-12-01 08:45:00",
                  "2.95",
                  "12583",
                  "France"
                ],
                [
                  "41",
                  "536370",
                  "21913",
                  "VINTAGE SEASIDE JIGSAW PUZZLES",
                  "12",
                  "2010-12-01 08:45:00",
                  "3.75",
                  "12583",
                  "France"
                ],
                [
                  "42",
                  "536370",
                  "22540",
                  "MINI JIGSAW CIRCUS PARADE ",
                  "24",
                  "2010-12-01 08:45:00",
                  "0.42",
                  "12583",
                  "France"
                ],
                [
                  "43",
                  "536370",
                  "22544",
                  "MINI JIGSAW SPACEBOY",
                  "24",
                  "2010-12-01 08:45:00",
                  "0.42",
                  "12583",
                  "France"
                ],
                [
                  "44",
                  "536370",
                  "22492",
                  "MINI PAINT SET VINTAGE ",
                  "36",
                  "2010-12-01 08:45:00",
                  "0.65",
                  "12583",
                  "France"
                ],
                [
                  "45",
                  "536370",
                  "POST",
                  "POSTAGE",
                  "3",
                  "2010-12-01 08:45:00",
                  "18.0",
                  "12583",
                  "France"
                ],
                [
                  "46",
                  "536371",
                  "22086",
                  "PAPER CHAIN KIT 50'S CHRISTMAS ",
                  "80",
                  "2010-12-01 09:00:00",
                  "2.55",
                  "13748",
                  "United Kingdom"
                ],
                [
                  "47",
                  "536372",
                  "22632",
                  "HAND WARMER RED POLKA DOT",
                  "6",
                  "2010-12-01 09:01:00",
                  "1.85",
                  "17850",
                  "United Kingdom"
                ],
                [
                  "48",
                  "536372",
                  "22633",
                  "HAND WARMER UNION JACK",
                  "6",
                  "2010-12-01 09:01:00",
                  "1.85",
                  "17850",
                  "United Kingdom"
                ],
                [
                  "49",
                  "536373",
                  "85123A",
                  "WHITE HANGING HEART T-LIGHT HOLDER",
                  "6",
                  "2010-12-01 09:02:00",
                  "2.55",
                  "17850",
                  "United Kingdom"
                ]
              ],
              "shape": {
                "columns": 8,
                "rows": 541909
              }
            },
            "text/html": [
              "<div>\n",
              "<style scoped>\n",
              "    .dataframe tbody tr th:only-of-type {\n",
              "        vertical-align: middle;\n",
              "    }\n",
              "\n",
              "    .dataframe tbody tr th {\n",
              "        vertical-align: top;\n",
              "    }\n",
              "\n",
              "    .dataframe thead th {\n",
              "        text-align: right;\n",
              "    }\n",
              "</style>\n",
              "<table border=\"1\" class=\"dataframe\">\n",
              "  <thead>\n",
              "    <tr style=\"text-align: right;\">\n",
              "      <th></th>\n",
              "      <th>InvoiceNo</th>\n",
              "      <th>StockCode</th>\n",
              "      <th>Description</th>\n",
              "      <th>Quantity</th>\n",
              "      <th>InvoiceDate</th>\n",
              "      <th>UnitPrice</th>\n",
              "      <th>CustomerID</th>\n",
              "      <th>Country</th>\n",
              "    </tr>\n",
              "  </thead>\n",
              "  <tbody>\n",
              "    <tr>\n",
              "      <th>0</th>\n",
              "      <td>536365</td>\n",
              "      <td>85123A</td>\n",
              "      <td>WHITE HANGING HEART T-LIGHT HOLDER</td>\n",
              "      <td>6</td>\n",
              "      <td>2010-12-01 08:26:00</td>\n",
              "      <td>2.55</td>\n",
              "      <td>17850</td>\n",
              "      <td>United Kingdom</td>\n",
              "    </tr>\n",
              "    <tr>\n",
              "      <th>1</th>\n",
              "      <td>536365</td>\n",
              "      <td>71053</td>\n",
              "      <td>WHITE METAL LANTERN</td>\n",
              "      <td>6</td>\n",
              "      <td>2010-12-01 08:26:00</td>\n",
              "      <td>3.39</td>\n",
              "      <td>17850</td>\n",
              "      <td>United Kingdom</td>\n",
              "    </tr>\n",
              "    <tr>\n",
              "      <th>2</th>\n",
              "      <td>536365</td>\n",
              "      <td>84406B</td>\n",
              "      <td>CREAM CUPID HEARTS COAT HANGER</td>\n",
              "      <td>8</td>\n",
              "      <td>2010-12-01 08:26:00</td>\n",
              "      <td>2.75</td>\n",
              "      <td>17850</td>\n",
              "      <td>United Kingdom</td>\n",
              "    </tr>\n",
              "    <tr>\n",
              "      <th>3</th>\n",
              "      <td>536365</td>\n",
              "      <td>84029G</td>\n",
              "      <td>KNITTED UNION FLAG HOT WATER BOTTLE</td>\n",
              "      <td>6</td>\n",
              "      <td>2010-12-01 08:26:00</td>\n",
              "      <td>3.39</td>\n",
              "      <td>17850</td>\n",
              "      <td>United Kingdom</td>\n",
              "    </tr>\n",
              "    <tr>\n",
              "      <th>4</th>\n",
              "      <td>536365</td>\n",
              "      <td>84029E</td>\n",
              "      <td>RED WOOLLY HOTTIE WHITE HEART.</td>\n",
              "      <td>6</td>\n",
              "      <td>2010-12-01 08:26:00</td>\n",
              "      <td>3.39</td>\n",
              "      <td>17850</td>\n",
              "      <td>United Kingdom</td>\n",
              "    </tr>\n",
              "    <tr>\n",
              "      <th>...</th>\n",
              "      <td>...</td>\n",
              "      <td>...</td>\n",
              "      <td>...</td>\n",
              "      <td>...</td>\n",
              "      <td>...</td>\n",
              "      <td>...</td>\n",
              "      <td>...</td>\n",
              "      <td>...</td>\n",
              "    </tr>\n",
              "    <tr>\n",
              "      <th>541904</th>\n",
              "      <td>581587</td>\n",
              "      <td>22613</td>\n",
              "      <td>PACK OF 20 SPACEBOY NAPKINS</td>\n",
              "      <td>12</td>\n",
              "      <td>2011-12-09 12:50:00</td>\n",
              "      <td>0.85</td>\n",
              "      <td>12680</td>\n",
              "      <td>France</td>\n",
              "    </tr>\n",
              "    <tr>\n",
              "      <th>541905</th>\n",
              "      <td>581587</td>\n",
              "      <td>22899</td>\n",
              "      <td>CHILDREN'S APRON DOLLY GIRL</td>\n",
              "      <td>6</td>\n",
              "      <td>2011-12-09 12:50:00</td>\n",
              "      <td>2.10</td>\n",
              "      <td>12680</td>\n",
              "      <td>France</td>\n",
              "    </tr>\n",
              "    <tr>\n",
              "      <th>541906</th>\n",
              "      <td>581587</td>\n",
              "      <td>23254</td>\n",
              "      <td>CHILDRENS CUTLERY DOLLY GIRL</td>\n",
              "      <td>4</td>\n",
              "      <td>2011-12-09 12:50:00</td>\n",
              "      <td>4.15</td>\n",
              "      <td>12680</td>\n",
              "      <td>France</td>\n",
              "    </tr>\n",
              "    <tr>\n",
              "      <th>541907</th>\n",
              "      <td>581587</td>\n",
              "      <td>23255</td>\n",
              "      <td>CHILDRENS CUTLERY CIRCUS PARADE</td>\n",
              "      <td>4</td>\n",
              "      <td>2011-12-09 12:50:00</td>\n",
              "      <td>4.15</td>\n",
              "      <td>12680</td>\n",
              "      <td>France</td>\n",
              "    </tr>\n",
              "    <tr>\n",
              "      <th>541908</th>\n",
              "      <td>581587</td>\n",
              "      <td>22138</td>\n",
              "      <td>BAKING SET 9 PIECE RETROSPOT</td>\n",
              "      <td>3</td>\n",
              "      <td>2011-12-09 12:50:00</td>\n",
              "      <td>4.95</td>\n",
              "      <td>12680</td>\n",
              "      <td>France</td>\n",
              "    </tr>\n",
              "  </tbody>\n",
              "</table>\n",
              "<p>541909 rows × 8 columns</p>\n",
              "</div>"
            ],
            "text/plain": [
              "       InvoiceNo StockCode                          Description  Quantity  \\\n",
              "0         536365    85123A   WHITE HANGING HEART T-LIGHT HOLDER         6   \n",
              "1         536365     71053                  WHITE METAL LANTERN         6   \n",
              "2         536365    84406B       CREAM CUPID HEARTS COAT HANGER         8   \n",
              "3         536365    84029G  KNITTED UNION FLAG HOT WATER BOTTLE         6   \n",
              "4         536365    84029E       RED WOOLLY HOTTIE WHITE HEART.         6   \n",
              "...          ...       ...                                  ...       ...   \n",
              "541904    581587     22613          PACK OF 20 SPACEBOY NAPKINS        12   \n",
              "541905    581587     22899         CHILDREN'S APRON DOLLY GIRL          6   \n",
              "541906    581587     23254        CHILDRENS CUTLERY DOLLY GIRL          4   \n",
              "541907    581587     23255      CHILDRENS CUTLERY CIRCUS PARADE         4   \n",
              "541908    581587     22138        BAKING SET 9 PIECE RETROSPOT          3   \n",
              "\n",
              "                InvoiceDate  UnitPrice  CustomerID         Country  \n",
              "0       2010-12-01 08:26:00       2.55       17850  United Kingdom  \n",
              "1       2010-12-01 08:26:00       3.39       17850  United Kingdom  \n",
              "2       2010-12-01 08:26:00       2.75       17850  United Kingdom  \n",
              "3       2010-12-01 08:26:00       3.39       17850  United Kingdom  \n",
              "4       2010-12-01 08:26:00       3.39       17850  United Kingdom  \n",
              "...                     ...        ...         ...             ...  \n",
              "541904  2011-12-09 12:50:00       0.85       12680          France  \n",
              "541905  2011-12-09 12:50:00       2.10       12680          France  \n",
              "541906  2011-12-09 12:50:00       4.15       12680          France  \n",
              "541907  2011-12-09 12:50:00       4.15       12680          France  \n",
              "541908  2011-12-09 12:50:00       4.95       12680          France  \n",
              "\n",
              "[541909 rows x 8 columns]"
            ]
          },
          "execution_count": 6,
          "metadata": {},
          "output_type": "execute_result"
        }
      ],
      "source": [
        "# Load the dataset\n",
        "df = pd.read_csv(input_file_path)\n",
        "# Preview the first few rows\n",
        "df"
      ]
    },
    {
      "cell_type": "markdown",
      "metadata": {
        "id": "ZY3l0-AxO93d"
      },
      "source": [
        "---"
      ]
    },
    {
      "cell_type": "markdown",
      "metadata": {
        "id": "uFQo3ycuO-v6"
      },
      "source": [
        "Data Types"
      ]
    },
    {
      "cell_type": "code",
      "execution_count": 7,
      "metadata": {},
      "outputs": [
        {
          "data": {
            "application/vnd.microsoft.datawrangler.viewer.v0+json": {
              "columns": [
                {
                  "name": "index",
                  "rawType": "object",
                  "type": "string"
                },
                {
                  "name": "0",
                  "rawType": "object",
                  "type": "unknown"
                }
              ],
              "ref": "0fb41ee8-0d66-4852-9489-4bdd126aad55",
              "rows": [
                [
                  "InvoiceNo",
                  "object"
                ],
                [
                  "StockCode",
                  "object"
                ],
                [
                  "Description",
                  "object"
                ],
                [
                  "Quantity",
                  "int64"
                ],
                [
                  "InvoiceDate",
                  "object"
                ],
                [
                  "UnitPrice",
                  "float64"
                ],
                [
                  "CustomerID",
                  "int64"
                ],
                [
                  "Country",
                  "object"
                ]
              ],
              "shape": {
                "columns": 1,
                "rows": 8
              }
            },
            "text/plain": [
              "InvoiceNo       object\n",
              "StockCode       object\n",
              "Description     object\n",
              "Quantity         int64\n",
              "InvoiceDate     object\n",
              "UnitPrice      float64\n",
              "CustomerID       int64\n",
              "Country         object\n",
              "dtype: object"
            ]
          },
          "execution_count": 7,
          "metadata": {},
          "output_type": "execute_result"
        }
      ],
      "source": [
        "df.dtypes"
      ]
    },
    {
      "cell_type": "markdown",
      "metadata": {},
      "source": [
        "---"
      ]
    },
    {
      "cell_type": "markdown",
      "metadata": {},
      "source": [
        "Basic Statistics"
      ]
    },
    {
      "cell_type": "code",
      "execution_count": 8,
      "metadata": {},
      "outputs": [
        {
          "data": {
            "application/vnd.microsoft.datawrangler.viewer.v0+json": {
              "columns": [
                {
                  "name": "index",
                  "rawType": "object",
                  "type": "string"
                },
                {
                  "name": "Quantity",
                  "rawType": "float64",
                  "type": "float"
                },
                {
                  "name": "UnitPrice",
                  "rawType": "float64",
                  "type": "float"
                },
                {
                  "name": "CustomerID",
                  "rawType": "float64",
                  "type": "float"
                }
              ],
              "ref": "450010a0-78f0-4067-a874-af1dd041f042",
              "rows": [
                [
                  "count",
                  "541909.0",
                  "541909.0",
                  "541909.0"
                ],
                [
                  "mean",
                  "9.55224954743324",
                  "4.611113626088513",
                  "15287.5184339068"
                ],
                [
                  "std",
                  "218.08115785023384",
                  "96.75985306117938",
                  "1484.746040516252"
                ],
                [
                  "min",
                  "-80995.0",
                  "-11062.06",
                  "12346.0"
                ],
                [
                  "25%",
                  "1.0",
                  "1.25",
                  "14367.0"
                ],
                [
                  "50%",
                  "3.0",
                  "2.08",
                  "15287.0"
                ],
                [
                  "75%",
                  "10.0",
                  "4.13",
                  "16255.0"
                ],
                [
                  "max",
                  "80995.0",
                  "38970.0",
                  "18287.0"
                ]
              ],
              "shape": {
                "columns": 3,
                "rows": 8
              }
            },
            "text/html": [
              "<div>\n",
              "<style scoped>\n",
              "    .dataframe tbody tr th:only-of-type {\n",
              "        vertical-align: middle;\n",
              "    }\n",
              "\n",
              "    .dataframe tbody tr th {\n",
              "        vertical-align: top;\n",
              "    }\n",
              "\n",
              "    .dataframe thead th {\n",
              "        text-align: right;\n",
              "    }\n",
              "</style>\n",
              "<table border=\"1\" class=\"dataframe\">\n",
              "  <thead>\n",
              "    <tr style=\"text-align: right;\">\n",
              "      <th></th>\n",
              "      <th>Quantity</th>\n",
              "      <th>UnitPrice</th>\n",
              "      <th>CustomerID</th>\n",
              "    </tr>\n",
              "  </thead>\n",
              "  <tbody>\n",
              "    <tr>\n",
              "      <th>count</th>\n",
              "      <td>541909.000000</td>\n",
              "      <td>541909.000000</td>\n",
              "      <td>541909.000000</td>\n",
              "    </tr>\n",
              "    <tr>\n",
              "      <th>mean</th>\n",
              "      <td>9.552250</td>\n",
              "      <td>4.611114</td>\n",
              "      <td>15287.518434</td>\n",
              "    </tr>\n",
              "    <tr>\n",
              "      <th>std</th>\n",
              "      <td>218.081158</td>\n",
              "      <td>96.759853</td>\n",
              "      <td>1484.746041</td>\n",
              "    </tr>\n",
              "    <tr>\n",
              "      <th>min</th>\n",
              "      <td>-80995.000000</td>\n",
              "      <td>-11062.060000</td>\n",
              "      <td>12346.000000</td>\n",
              "    </tr>\n",
              "    <tr>\n",
              "      <th>25%</th>\n",
              "      <td>1.000000</td>\n",
              "      <td>1.250000</td>\n",
              "      <td>14367.000000</td>\n",
              "    </tr>\n",
              "    <tr>\n",
              "      <th>50%</th>\n",
              "      <td>3.000000</td>\n",
              "      <td>2.080000</td>\n",
              "      <td>15287.000000</td>\n",
              "    </tr>\n",
              "    <tr>\n",
              "      <th>75%</th>\n",
              "      <td>10.000000</td>\n",
              "      <td>4.130000</td>\n",
              "      <td>16255.000000</td>\n",
              "    </tr>\n",
              "    <tr>\n",
              "      <th>max</th>\n",
              "      <td>80995.000000</td>\n",
              "      <td>38970.000000</td>\n",
              "      <td>18287.000000</td>\n",
              "    </tr>\n",
              "  </tbody>\n",
              "</table>\n",
              "</div>"
            ],
            "text/plain": [
              "            Quantity      UnitPrice     CustomerID\n",
              "count  541909.000000  541909.000000  541909.000000\n",
              "mean        9.552250       4.611114   15287.518434\n",
              "std       218.081158      96.759853    1484.746041\n",
              "min    -80995.000000  -11062.060000   12346.000000\n",
              "25%         1.000000       1.250000   14367.000000\n",
              "50%         3.000000       2.080000   15287.000000\n",
              "75%        10.000000       4.130000   16255.000000\n",
              "max     80995.000000   38970.000000   18287.000000"
            ]
          },
          "execution_count": 8,
          "metadata": {},
          "output_type": "execute_result"
        }
      ],
      "source": [
        "df.describe()"
      ]
    },
    {
      "cell_type": "markdown",
      "metadata": {},
      "source": [
        "---"
      ]
    },
    {
      "cell_type": "markdown",
      "metadata": {
        "id": "ltNetd085qHf"
      },
      "source": [
        "## T(Transform): Clean the data, handle missing values, encode categorical variables, and create new features such as total transaction value"
      ]
    },
    {
      "cell_type": "markdown",
      "metadata": {},
      "source": [
        "Store original size"
      ]
    },
    {
      "cell_type": "code",
      "execution_count": 9,
      "metadata": {
        "id": "aKlnIozA4eQO",
        "outputId": "fd09bc1f-adb1-4511-f6ce-492a6af570c0"
      },
      "outputs": [
        {
          "data": {
            "text/plain": [
              "541909"
            ]
          },
          "execution_count": 9,
          "metadata": {},
          "output_type": "execute_result"
        }
      ],
      "source": [
        "original_size = len(df)\n",
        "original_size"
      ]
    },
    {
      "cell_type": "markdown",
      "metadata": {},
      "source": [
        "Convert data types"
      ]
    },
    {
      "cell_type": "code",
      "execution_count": 10,
      "metadata": {},
      "outputs": [
        {
          "data": {
            "application/vnd.microsoft.datawrangler.viewer.v0+json": {
              "columns": [
                {
                  "name": "index",
                  "rawType": "object",
                  "type": "string"
                },
                {
                  "name": "0",
                  "rawType": "object",
                  "type": "unknown"
                }
              ],
              "ref": "87760660-677c-40b5-a62e-0ae9e8039fbd",
              "rows": [
                [
                  "InvoiceNo",
                  "object"
                ],
                [
                  "StockCode",
                  "object"
                ],
                [
                  "Description",
                  "object"
                ],
                [
                  "Quantity",
                  "int64"
                ],
                [
                  "InvoiceDate",
                  "datetime64[ns]"
                ],
                [
                  "UnitPrice",
                  "float64"
                ],
                [
                  "CustomerID",
                  "int64"
                ],
                [
                  "Country",
                  "object"
                ]
              ],
              "shape": {
                "columns": 1,
                "rows": 8
              }
            },
            "text/plain": [
              "InvoiceNo              object\n",
              "StockCode              object\n",
              "Description            object\n",
              "Quantity                int64\n",
              "InvoiceDate    datetime64[ns]\n",
              "UnitPrice             float64\n",
              "CustomerID              int64\n",
              "Country                object\n",
              "dtype: object"
            ]
          },
          "execution_count": 10,
          "metadata": {},
          "output_type": "execute_result"
        }
      ],
      "source": [
        "df['Quantity'] = pd.to_numeric(df['Quantity'], errors='coerce')\n",
        "df['UnitPrice'] = pd.to_numeric(df['UnitPrice'], errors='coerce')\n",
        "df['InvoiceDate'] = pd.to_datetime(df['InvoiceDate'], errors='coerce')\n",
        "df['CustomerID'] = pd.to_numeric(df['CustomerID'], errors='coerce')\n",
        "df.dtypes"
      ]
    },
    {
      "cell_type": "markdown",
      "metadata": {},
      "source": [
        "Check if there are missing data"
      ]
    },
    {
      "cell_type": "code",
      "execution_count": 11,
      "metadata": {},
      "outputs": [
        {
          "data": {
            "application/vnd.microsoft.datawrangler.viewer.v0+json": {
              "columns": [
                {
                  "name": "index",
                  "rawType": "object",
                  "type": "string"
                },
                {
                  "name": "0",
                  "rawType": "int64",
                  "type": "integer"
                }
              ],
              "ref": "478c015d-90e7-4fc2-9ae4-2acb46b18e51",
              "rows": [
                [
                  "InvoiceNo",
                  "0"
                ],
                [
                  "StockCode",
                  "0"
                ],
                [
                  "Description",
                  "1454"
                ],
                [
                  "Quantity",
                  "0"
                ],
                [
                  "InvoiceDate",
                  "0"
                ],
                [
                  "UnitPrice",
                  "0"
                ],
                [
                  "CustomerID",
                  "0"
                ],
                [
                  "Country",
                  "0"
                ]
              ],
              "shape": {
                "columns": 1,
                "rows": 8
              }
            },
            "text/plain": [
              "InvoiceNo         0\n",
              "StockCode         0\n",
              "Description    1454\n",
              "Quantity          0\n",
              "InvoiceDate       0\n",
              "UnitPrice         0\n",
              "CustomerID        0\n",
              "Country           0\n",
              "dtype: int64"
            ]
          },
          "execution_count": 11,
          "metadata": {},
          "output_type": "execute_result"
        }
      ],
      "source": [
        "df.isnull().sum()"
      ]
    },
    {
      "cell_type": "markdown",
      "metadata": {},
      "source": [
        "Drop rows with missing critical data"
      ]
    },
    {
      "cell_type": "code",
      "execution_count": 12,
      "metadata": {},
      "outputs": [
        {
          "data": {
            "application/vnd.microsoft.datawrangler.viewer.v0+json": {
              "columns": [
                {
                  "name": "index",
                  "rawType": "int64",
                  "type": "integer"
                },
                {
                  "name": "InvoiceNo",
                  "rawType": "object",
                  "type": "string"
                },
                {
                  "name": "StockCode",
                  "rawType": "object",
                  "type": "string"
                },
                {
                  "name": "Description",
                  "rawType": "object",
                  "type": "string"
                },
                {
                  "name": "Quantity",
                  "rawType": "int64",
                  "type": "integer"
                },
                {
                  "name": "InvoiceDate",
                  "rawType": "datetime64[ns]",
                  "type": "datetime"
                },
                {
                  "name": "UnitPrice",
                  "rawType": "float64",
                  "type": "float"
                },
                {
                  "name": "CustomerID",
                  "rawType": "int64",
                  "type": "integer"
                },
                {
                  "name": "Country",
                  "rawType": "object",
                  "type": "string"
                }
              ],
              "ref": "04f8345e-8551-42bd-9f9f-3a3fd4756aaf",
              "rows": [
                [
                  "0",
                  "536365",
                  "85123A",
                  "WHITE HANGING HEART T-LIGHT HOLDER",
                  "6",
                  "2010-12-01 08:26:00",
                  "2.55",
                  "17850",
                  "United Kingdom"
                ],
                [
                  "1",
                  "536365",
                  "71053",
                  "WHITE METAL LANTERN",
                  "6",
                  "2010-12-01 08:26:00",
                  "3.39",
                  "17850",
                  "United Kingdom"
                ],
                [
                  "2",
                  "536365",
                  "84406B",
                  "CREAM CUPID HEARTS COAT HANGER",
                  "8",
                  "2010-12-01 08:26:00",
                  "2.75",
                  "17850",
                  "United Kingdom"
                ],
                [
                  "3",
                  "536365",
                  "84029G",
                  "KNITTED UNION FLAG HOT WATER BOTTLE",
                  "6",
                  "2010-12-01 08:26:00",
                  "3.39",
                  "17850",
                  "United Kingdom"
                ],
                [
                  "4",
                  "536365",
                  "84029E",
                  "RED WOOLLY HOTTIE WHITE HEART.",
                  "6",
                  "2010-12-01 08:26:00",
                  "3.39",
                  "17850",
                  "United Kingdom"
                ],
                [
                  "5",
                  "536365",
                  "22752",
                  "SET 7 BABUSHKA NESTING BOXES",
                  "2",
                  "2010-12-01 08:26:00",
                  "7.65",
                  "17850",
                  "United Kingdom"
                ],
                [
                  "6",
                  "536365",
                  "21730",
                  "GLASS STAR FROSTED T-LIGHT HOLDER",
                  "6",
                  "2010-12-01 08:26:00",
                  "4.25",
                  "17850",
                  "United Kingdom"
                ],
                [
                  "7",
                  "536366",
                  "22633",
                  "HAND WARMER UNION JACK",
                  "6",
                  "2010-12-01 08:28:00",
                  "1.85",
                  "17850",
                  "United Kingdom"
                ],
                [
                  "8",
                  "536366",
                  "22632",
                  "HAND WARMER RED POLKA DOT",
                  "6",
                  "2010-12-01 08:28:00",
                  "1.85",
                  "17850",
                  "United Kingdom"
                ],
                [
                  "9",
                  "536367",
                  "84879",
                  "ASSORTED COLOUR BIRD ORNAMENT",
                  "32",
                  "2010-12-01 08:34:00",
                  "1.69",
                  "13047",
                  "United Kingdom"
                ],
                [
                  "10",
                  "536367",
                  "22745",
                  "POPPY'S PLAYHOUSE BEDROOM ",
                  "6",
                  "2010-12-01 08:34:00",
                  "2.1",
                  "13047",
                  "United Kingdom"
                ],
                [
                  "11",
                  "536367",
                  "22748",
                  "POPPY'S PLAYHOUSE KITCHEN",
                  "6",
                  "2010-12-01 08:34:00",
                  "2.1",
                  "13047",
                  "United Kingdom"
                ],
                [
                  "12",
                  "536367",
                  "22749",
                  "FELTCRAFT PRINCESS CHARLOTTE DOLL",
                  "8",
                  "2010-12-01 08:34:00",
                  "3.75",
                  "13047",
                  "United Kingdom"
                ],
                [
                  "13",
                  "536367",
                  "22310",
                  "IVORY KNITTED MUG COSY ",
                  "6",
                  "2010-12-01 08:34:00",
                  "1.65",
                  "13047",
                  "United Kingdom"
                ],
                [
                  "14",
                  "536367",
                  "84969",
                  "BOX OF 6 ASSORTED COLOUR TEASPOONS",
                  "6",
                  "2010-12-01 08:34:00",
                  "4.25",
                  "13047",
                  "United Kingdom"
                ],
                [
                  "15",
                  "536367",
                  "22623",
                  "BOX OF VINTAGE JIGSAW BLOCKS ",
                  "3",
                  "2010-12-01 08:34:00",
                  "4.95",
                  "13047",
                  "United Kingdom"
                ],
                [
                  "16",
                  "536367",
                  "22622",
                  "BOX OF VINTAGE ALPHABET BLOCKS",
                  "2",
                  "2010-12-01 08:34:00",
                  "9.95",
                  "13047",
                  "United Kingdom"
                ],
                [
                  "17",
                  "536367",
                  "21754",
                  "HOME BUILDING BLOCK WORD",
                  "3",
                  "2010-12-01 08:34:00",
                  "5.95",
                  "13047",
                  "United Kingdom"
                ],
                [
                  "18",
                  "536367",
                  "21755",
                  "LOVE BUILDING BLOCK WORD",
                  "3",
                  "2010-12-01 08:34:00",
                  "5.95",
                  "13047",
                  "United Kingdom"
                ],
                [
                  "19",
                  "536367",
                  "21777",
                  "RECIPE BOX WITH METAL HEART",
                  "4",
                  "2010-12-01 08:34:00",
                  "7.95",
                  "13047",
                  "United Kingdom"
                ],
                [
                  "20",
                  "536367",
                  "48187",
                  "DOORMAT NEW ENGLAND",
                  "4",
                  "2010-12-01 08:34:00",
                  "7.95",
                  "13047",
                  "United Kingdom"
                ],
                [
                  "21",
                  "536368",
                  "22960",
                  "JAM MAKING SET WITH JARS",
                  "6",
                  "2010-12-01 08:34:00",
                  "4.25",
                  "13047",
                  "United Kingdom"
                ],
                [
                  "22",
                  "536368",
                  "22913",
                  "RED COAT RACK PARIS FASHION",
                  "3",
                  "2010-12-01 08:34:00",
                  "4.95",
                  "13047",
                  "United Kingdom"
                ],
                [
                  "23",
                  "536368",
                  "22912",
                  "YELLOW COAT RACK PARIS FASHION",
                  "3",
                  "2010-12-01 08:34:00",
                  "4.95",
                  "13047",
                  "United Kingdom"
                ],
                [
                  "24",
                  "536368",
                  "22914",
                  "BLUE COAT RACK PARIS FASHION",
                  "3",
                  "2010-12-01 08:34:00",
                  "4.95",
                  "13047",
                  "United Kingdom"
                ],
                [
                  "25",
                  "536369",
                  "21756",
                  "BATH BUILDING BLOCK WORD",
                  "3",
                  "2010-12-01 08:35:00",
                  "5.95",
                  "13047",
                  "United Kingdom"
                ],
                [
                  "26",
                  "536370",
                  "22728",
                  "ALARM CLOCK BAKELIKE PINK",
                  "24",
                  "2010-12-01 08:45:00",
                  "3.75",
                  "12583",
                  "France"
                ],
                [
                  "27",
                  "536370",
                  "22727",
                  "ALARM CLOCK BAKELIKE RED ",
                  "24",
                  "2010-12-01 08:45:00",
                  "3.75",
                  "12583",
                  "France"
                ],
                [
                  "28",
                  "536370",
                  "22726",
                  "ALARM CLOCK BAKELIKE GREEN",
                  "12",
                  "2010-12-01 08:45:00",
                  "3.75",
                  "12583",
                  "France"
                ],
                [
                  "29",
                  "536370",
                  "21724",
                  "PANDA AND BUNNIES STICKER SHEET",
                  "12",
                  "2010-12-01 08:45:00",
                  "0.85",
                  "12583",
                  "France"
                ],
                [
                  "30",
                  "536370",
                  "21883",
                  "STARS GIFT TAPE ",
                  "24",
                  "2010-12-01 08:45:00",
                  "0.65",
                  "12583",
                  "France"
                ],
                [
                  "31",
                  "536370",
                  "10002",
                  "INFLATABLE POLITICAL GLOBE ",
                  "48",
                  "2010-12-01 08:45:00",
                  "0.85",
                  "12583",
                  "France"
                ],
                [
                  "32",
                  "536370",
                  "21791",
                  "VINTAGE HEADS AND TAILS CARD GAME ",
                  "24",
                  "2010-12-01 08:45:00",
                  "1.25",
                  "12583",
                  "France"
                ],
                [
                  "33",
                  "536370",
                  "21035",
                  "SET/2 RED RETROSPOT TEA TOWELS ",
                  "18",
                  "2010-12-01 08:45:00",
                  "2.95",
                  "12583",
                  "France"
                ],
                [
                  "34",
                  "536370",
                  "22326",
                  "ROUND SNACK BOXES SET OF4 WOODLAND ",
                  "24",
                  "2010-12-01 08:45:00",
                  "2.95",
                  "12583",
                  "France"
                ],
                [
                  "35",
                  "536370",
                  "22629",
                  "SPACEBOY LUNCH BOX ",
                  "24",
                  "2010-12-01 08:45:00",
                  "1.95",
                  "12583",
                  "France"
                ],
                [
                  "36",
                  "536370",
                  "22659",
                  "LUNCH BOX I LOVE LONDON",
                  "24",
                  "2010-12-01 08:45:00",
                  "1.95",
                  "12583",
                  "France"
                ],
                [
                  "37",
                  "536370",
                  "22631",
                  "CIRCUS PARADE LUNCH BOX ",
                  "24",
                  "2010-12-01 08:45:00",
                  "1.95",
                  "12583",
                  "France"
                ],
                [
                  "38",
                  "536370",
                  "22661",
                  "CHARLOTTE BAG DOLLY GIRL DESIGN",
                  "20",
                  "2010-12-01 08:45:00",
                  "0.85",
                  "12583",
                  "France"
                ],
                [
                  "39",
                  "536370",
                  "21731",
                  "RED TOADSTOOL LED NIGHT LIGHT",
                  "24",
                  "2010-12-01 08:45:00",
                  "1.65",
                  "12583",
                  "France"
                ],
                [
                  "40",
                  "536370",
                  "22900",
                  " SET 2 TEA TOWELS I LOVE LONDON ",
                  "24",
                  "2010-12-01 08:45:00",
                  "2.95",
                  "12583",
                  "France"
                ],
                [
                  "41",
                  "536370",
                  "21913",
                  "VINTAGE SEASIDE JIGSAW PUZZLES",
                  "12",
                  "2010-12-01 08:45:00",
                  "3.75",
                  "12583",
                  "France"
                ],
                [
                  "42",
                  "536370",
                  "22540",
                  "MINI JIGSAW CIRCUS PARADE ",
                  "24",
                  "2010-12-01 08:45:00",
                  "0.42",
                  "12583",
                  "France"
                ],
                [
                  "43",
                  "536370",
                  "22544",
                  "MINI JIGSAW SPACEBOY",
                  "24",
                  "2010-12-01 08:45:00",
                  "0.42",
                  "12583",
                  "France"
                ],
                [
                  "44",
                  "536370",
                  "22492",
                  "MINI PAINT SET VINTAGE ",
                  "36",
                  "2010-12-01 08:45:00",
                  "0.65",
                  "12583",
                  "France"
                ],
                [
                  "45",
                  "536370",
                  "POST",
                  "POSTAGE",
                  "3",
                  "2010-12-01 08:45:00",
                  "18.0",
                  "12583",
                  "France"
                ],
                [
                  "46",
                  "536371",
                  "22086",
                  "PAPER CHAIN KIT 50'S CHRISTMAS ",
                  "80",
                  "2010-12-01 09:00:00",
                  "2.55",
                  "13748",
                  "United Kingdom"
                ],
                [
                  "47",
                  "536372",
                  "22632",
                  "HAND WARMER RED POLKA DOT",
                  "6",
                  "2010-12-01 09:01:00",
                  "1.85",
                  "17850",
                  "United Kingdom"
                ],
                [
                  "48",
                  "536372",
                  "22633",
                  "HAND WARMER UNION JACK",
                  "6",
                  "2010-12-01 09:01:00",
                  "1.85",
                  "17850",
                  "United Kingdom"
                ],
                [
                  "49",
                  "536373",
                  "85123A",
                  "WHITE HANGING HEART T-LIGHT HOLDER",
                  "6",
                  "2010-12-01 09:02:00",
                  "2.55",
                  "17850",
                  "United Kingdom"
                ]
              ],
              "shape": {
                "columns": 8,
                "rows": 530104
              }
            },
            "text/html": [
              "<div>\n",
              "<style scoped>\n",
              "    .dataframe tbody tr th:only-of-type {\n",
              "        vertical-align: middle;\n",
              "    }\n",
              "\n",
              "    .dataframe tbody tr th {\n",
              "        vertical-align: top;\n",
              "    }\n",
              "\n",
              "    .dataframe thead th {\n",
              "        text-align: right;\n",
              "    }\n",
              "</style>\n",
              "<table border=\"1\" class=\"dataframe\">\n",
              "  <thead>\n",
              "    <tr style=\"text-align: right;\">\n",
              "      <th></th>\n",
              "      <th>InvoiceNo</th>\n",
              "      <th>StockCode</th>\n",
              "      <th>Description</th>\n",
              "      <th>Quantity</th>\n",
              "      <th>InvoiceDate</th>\n",
              "      <th>UnitPrice</th>\n",
              "      <th>CustomerID</th>\n",
              "      <th>Country</th>\n",
              "    </tr>\n",
              "  </thead>\n",
              "  <tbody>\n",
              "    <tr>\n",
              "      <th>0</th>\n",
              "      <td>536365</td>\n",
              "      <td>85123A</td>\n",
              "      <td>WHITE HANGING HEART T-LIGHT HOLDER</td>\n",
              "      <td>6</td>\n",
              "      <td>2010-12-01 08:26:00</td>\n",
              "      <td>2.55</td>\n",
              "      <td>17850</td>\n",
              "      <td>United Kingdom</td>\n",
              "    </tr>\n",
              "    <tr>\n",
              "      <th>1</th>\n",
              "      <td>536365</td>\n",
              "      <td>71053</td>\n",
              "      <td>WHITE METAL LANTERN</td>\n",
              "      <td>6</td>\n",
              "      <td>2010-12-01 08:26:00</td>\n",
              "      <td>3.39</td>\n",
              "      <td>17850</td>\n",
              "      <td>United Kingdom</td>\n",
              "    </tr>\n",
              "    <tr>\n",
              "      <th>2</th>\n",
              "      <td>536365</td>\n",
              "      <td>84406B</td>\n",
              "      <td>CREAM CUPID HEARTS COAT HANGER</td>\n",
              "      <td>8</td>\n",
              "      <td>2010-12-01 08:26:00</td>\n",
              "      <td>2.75</td>\n",
              "      <td>17850</td>\n",
              "      <td>United Kingdom</td>\n",
              "    </tr>\n",
              "    <tr>\n",
              "      <th>3</th>\n",
              "      <td>536365</td>\n",
              "      <td>84029G</td>\n",
              "      <td>KNITTED UNION FLAG HOT WATER BOTTLE</td>\n",
              "      <td>6</td>\n",
              "      <td>2010-12-01 08:26:00</td>\n",
              "      <td>3.39</td>\n",
              "      <td>17850</td>\n",
              "      <td>United Kingdom</td>\n",
              "    </tr>\n",
              "    <tr>\n",
              "      <th>4</th>\n",
              "      <td>536365</td>\n",
              "      <td>84029E</td>\n",
              "      <td>RED WOOLLY HOTTIE WHITE HEART.</td>\n",
              "      <td>6</td>\n",
              "      <td>2010-12-01 08:26:00</td>\n",
              "      <td>3.39</td>\n",
              "      <td>17850</td>\n",
              "      <td>United Kingdom</td>\n",
              "    </tr>\n",
              "    <tr>\n",
              "      <th>...</th>\n",
              "      <td>...</td>\n",
              "      <td>...</td>\n",
              "      <td>...</td>\n",
              "      <td>...</td>\n",
              "      <td>...</td>\n",
              "      <td>...</td>\n",
              "      <td>...</td>\n",
              "      <td>...</td>\n",
              "    </tr>\n",
              "    <tr>\n",
              "      <th>541904</th>\n",
              "      <td>581587</td>\n",
              "      <td>22613</td>\n",
              "      <td>PACK OF 20 SPACEBOY NAPKINS</td>\n",
              "      <td>12</td>\n",
              "      <td>2011-12-09 12:50:00</td>\n",
              "      <td>0.85</td>\n",
              "      <td>12680</td>\n",
              "      <td>France</td>\n",
              "    </tr>\n",
              "    <tr>\n",
              "      <th>541905</th>\n",
              "      <td>581587</td>\n",
              "      <td>22899</td>\n",
              "      <td>CHILDREN'S APRON DOLLY GIRL</td>\n",
              "      <td>6</td>\n",
              "      <td>2011-12-09 12:50:00</td>\n",
              "      <td>2.10</td>\n",
              "      <td>12680</td>\n",
              "      <td>France</td>\n",
              "    </tr>\n",
              "    <tr>\n",
              "      <th>541906</th>\n",
              "      <td>581587</td>\n",
              "      <td>23254</td>\n",
              "      <td>CHILDRENS CUTLERY DOLLY GIRL</td>\n",
              "      <td>4</td>\n",
              "      <td>2011-12-09 12:50:00</td>\n",
              "      <td>4.15</td>\n",
              "      <td>12680</td>\n",
              "      <td>France</td>\n",
              "    </tr>\n",
              "    <tr>\n",
              "      <th>541907</th>\n",
              "      <td>581587</td>\n",
              "      <td>23255</td>\n",
              "      <td>CHILDRENS CUTLERY CIRCUS PARADE</td>\n",
              "      <td>4</td>\n",
              "      <td>2011-12-09 12:50:00</td>\n",
              "      <td>4.15</td>\n",
              "      <td>12680</td>\n",
              "      <td>France</td>\n",
              "    </tr>\n",
              "    <tr>\n",
              "      <th>541908</th>\n",
              "      <td>581587</td>\n",
              "      <td>22138</td>\n",
              "      <td>BAKING SET 9 PIECE RETROSPOT</td>\n",
              "      <td>3</td>\n",
              "      <td>2011-12-09 12:50:00</td>\n",
              "      <td>4.95</td>\n",
              "      <td>12680</td>\n",
              "      <td>France</td>\n",
              "    </tr>\n",
              "  </tbody>\n",
              "</table>\n",
              "<p>530104 rows × 8 columns</p>\n",
              "</div>"
            ],
            "text/plain": [
              "       InvoiceNo StockCode                          Description  Quantity  \\\n",
              "0         536365    85123A   WHITE HANGING HEART T-LIGHT HOLDER         6   \n",
              "1         536365     71053                  WHITE METAL LANTERN         6   \n",
              "2         536365    84406B       CREAM CUPID HEARTS COAT HANGER         8   \n",
              "3         536365    84029G  KNITTED UNION FLAG HOT WATER BOTTLE         6   \n",
              "4         536365    84029E       RED WOOLLY HOTTIE WHITE HEART.         6   \n",
              "...          ...       ...                                  ...       ...   \n",
              "541904    581587     22613          PACK OF 20 SPACEBOY NAPKINS        12   \n",
              "541905    581587     22899         CHILDREN'S APRON DOLLY GIRL          6   \n",
              "541906    581587     23254        CHILDRENS CUTLERY DOLLY GIRL          4   \n",
              "541907    581587     23255      CHILDRENS CUTLERY CIRCUS PARADE         4   \n",
              "541908    581587     22138        BAKING SET 9 PIECE RETROSPOT          3   \n",
              "\n",
              "               InvoiceDate  UnitPrice  CustomerID         Country  \n",
              "0      2010-12-01 08:26:00       2.55       17850  United Kingdom  \n",
              "1      2010-12-01 08:26:00       3.39       17850  United Kingdom  \n",
              "2      2010-12-01 08:26:00       2.75       17850  United Kingdom  \n",
              "3      2010-12-01 08:26:00       3.39       17850  United Kingdom  \n",
              "4      2010-12-01 08:26:00       3.39       17850  United Kingdom  \n",
              "...                    ...        ...         ...             ...  \n",
              "541904 2011-12-09 12:50:00       0.85       12680          France  \n",
              "541905 2011-12-09 12:50:00       2.10       12680          France  \n",
              "541906 2011-12-09 12:50:00       4.15       12680          France  \n",
              "541907 2011-12-09 12:50:00       4.15       12680          France  \n",
              "541908 2011-12-09 12:50:00       4.95       12680          France  \n",
              "\n",
              "[530104 rows x 8 columns]"
            ]
          },
          "execution_count": 12,
          "metadata": {},
          "output_type": "execute_result"
        }
      ],
      "source": [
        "# Drop rows with missing data and create a new DataFrame\n",
        "df_cleaned = df.dropna(subset=['CustomerID', 'InvoiceDate', 'UnitPrice', 'Quantity']).copy()\n",
        "df_cleaned = df_cleaned[df_cleaned['Quantity'] > 0]  # Remove returns/cancellations\n",
        "df_cleaned = df_cleaned[df_cleaned['UnitPrice'] > 0]  # Remove free items\n",
        "df_cleaned"
      ]
    },
    {
      "cell_type": "markdown",
      "metadata": {},
      "source": [
        "Remove any duplicates"
      ]
    },
    {
      "cell_type": "code",
      "execution_count": 13,
      "metadata": {},
      "outputs": [
        {
          "name": "stdout",
          "output_type": "stream",
          "text": [
            "Number of duplicate rows: 5226\n"
          ]
        },
        {
          "data": {
            "application/vnd.microsoft.datawrangler.viewer.v0+json": {
              "columns": [
                {
                  "name": "index",
                  "rawType": "int64",
                  "type": "integer"
                },
                {
                  "name": "InvoiceNo",
                  "rawType": "object",
                  "type": "string"
                },
                {
                  "name": "StockCode",
                  "rawType": "object",
                  "type": "string"
                },
                {
                  "name": "Description",
                  "rawType": "object",
                  "type": "string"
                },
                {
                  "name": "Quantity",
                  "rawType": "int64",
                  "type": "integer"
                },
                {
                  "name": "InvoiceDate",
                  "rawType": "datetime64[ns]",
                  "type": "datetime"
                },
                {
                  "name": "UnitPrice",
                  "rawType": "float64",
                  "type": "float"
                },
                {
                  "name": "CustomerID",
                  "rawType": "int64",
                  "type": "integer"
                },
                {
                  "name": "Country",
                  "rawType": "object",
                  "type": "string"
                }
              ],
              "ref": "9db183d4-6685-4cee-a0f1-128961e4f638",
              "rows": [
                [
                  "0",
                  "536365",
                  "85123A",
                  "WHITE HANGING HEART T-LIGHT HOLDER",
                  "6",
                  "2010-12-01 08:26:00",
                  "2.55",
                  "17850",
                  "United Kingdom"
                ],
                [
                  "1",
                  "536365",
                  "71053",
                  "WHITE METAL LANTERN",
                  "6",
                  "2010-12-01 08:26:00",
                  "3.39",
                  "17850",
                  "United Kingdom"
                ],
                [
                  "2",
                  "536365",
                  "84406B",
                  "CREAM CUPID HEARTS COAT HANGER",
                  "8",
                  "2010-12-01 08:26:00",
                  "2.75",
                  "17850",
                  "United Kingdom"
                ],
                [
                  "3",
                  "536365",
                  "84029G",
                  "KNITTED UNION FLAG HOT WATER BOTTLE",
                  "6",
                  "2010-12-01 08:26:00",
                  "3.39",
                  "17850",
                  "United Kingdom"
                ],
                [
                  "4",
                  "536365",
                  "84029E",
                  "RED WOOLLY HOTTIE WHITE HEART.",
                  "6",
                  "2010-12-01 08:26:00",
                  "3.39",
                  "17850",
                  "United Kingdom"
                ]
              ],
              "shape": {
                "columns": 8,
                "rows": 5
              }
            },
            "text/html": [
              "<div>\n",
              "<style scoped>\n",
              "    .dataframe tbody tr th:only-of-type {\n",
              "        vertical-align: middle;\n",
              "    }\n",
              "\n",
              "    .dataframe tbody tr th {\n",
              "        vertical-align: top;\n",
              "    }\n",
              "\n",
              "    .dataframe thead th {\n",
              "        text-align: right;\n",
              "    }\n",
              "</style>\n",
              "<table border=\"1\" class=\"dataframe\">\n",
              "  <thead>\n",
              "    <tr style=\"text-align: right;\">\n",
              "      <th></th>\n",
              "      <th>InvoiceNo</th>\n",
              "      <th>StockCode</th>\n",
              "      <th>Description</th>\n",
              "      <th>Quantity</th>\n",
              "      <th>InvoiceDate</th>\n",
              "      <th>UnitPrice</th>\n",
              "      <th>CustomerID</th>\n",
              "      <th>Country</th>\n",
              "    </tr>\n",
              "  </thead>\n",
              "  <tbody>\n",
              "    <tr>\n",
              "      <th>0</th>\n",
              "      <td>536365</td>\n",
              "      <td>85123A</td>\n",
              "      <td>WHITE HANGING HEART T-LIGHT HOLDER</td>\n",
              "      <td>6</td>\n",
              "      <td>2010-12-01 08:26:00</td>\n",
              "      <td>2.55</td>\n",
              "      <td>17850</td>\n",
              "      <td>United Kingdom</td>\n",
              "    </tr>\n",
              "    <tr>\n",
              "      <th>1</th>\n",
              "      <td>536365</td>\n",
              "      <td>71053</td>\n",
              "      <td>WHITE METAL LANTERN</td>\n",
              "      <td>6</td>\n",
              "      <td>2010-12-01 08:26:00</td>\n",
              "      <td>3.39</td>\n",
              "      <td>17850</td>\n",
              "      <td>United Kingdom</td>\n",
              "    </tr>\n",
              "    <tr>\n",
              "      <th>2</th>\n",
              "      <td>536365</td>\n",
              "      <td>84406B</td>\n",
              "      <td>CREAM CUPID HEARTS COAT HANGER</td>\n",
              "      <td>8</td>\n",
              "      <td>2010-12-01 08:26:00</td>\n",
              "      <td>2.75</td>\n",
              "      <td>17850</td>\n",
              "      <td>United Kingdom</td>\n",
              "    </tr>\n",
              "    <tr>\n",
              "      <th>3</th>\n",
              "      <td>536365</td>\n",
              "      <td>84029G</td>\n",
              "      <td>KNITTED UNION FLAG HOT WATER BOTTLE</td>\n",
              "      <td>6</td>\n",
              "      <td>2010-12-01 08:26:00</td>\n",
              "      <td>3.39</td>\n",
              "      <td>17850</td>\n",
              "      <td>United Kingdom</td>\n",
              "    </tr>\n",
              "    <tr>\n",
              "      <th>4</th>\n",
              "      <td>536365</td>\n",
              "      <td>84029E</td>\n",
              "      <td>RED WOOLLY HOTTIE WHITE HEART.</td>\n",
              "      <td>6</td>\n",
              "      <td>2010-12-01 08:26:00</td>\n",
              "      <td>3.39</td>\n",
              "      <td>17850</td>\n",
              "      <td>United Kingdom</td>\n",
              "    </tr>\n",
              "  </tbody>\n",
              "</table>\n",
              "</div>"
            ],
            "text/plain": [
              "  InvoiceNo StockCode                          Description  Quantity  \\\n",
              "0    536365    85123A   WHITE HANGING HEART T-LIGHT HOLDER         6   \n",
              "1    536365     71053                  WHITE METAL LANTERN         6   \n",
              "2    536365    84406B       CREAM CUPID HEARTS COAT HANGER         8   \n",
              "3    536365    84029G  KNITTED UNION FLAG HOT WATER BOTTLE         6   \n",
              "4    536365    84029E       RED WOOLLY HOTTIE WHITE HEART.         6   \n",
              "\n",
              "          InvoiceDate  UnitPrice  CustomerID         Country  \n",
              "0 2010-12-01 08:26:00       2.55       17850  United Kingdom  \n",
              "1 2010-12-01 08:26:00       3.39       17850  United Kingdom  \n",
              "2 2010-12-01 08:26:00       2.75       17850  United Kingdom  \n",
              "3 2010-12-01 08:26:00       3.39       17850  United Kingdom  \n",
              "4 2010-12-01 08:26:00       3.39       17850  United Kingdom  "
            ]
          },
          "execution_count": 13,
          "metadata": {},
          "output_type": "execute_result"
        }
      ],
      "source": [
        "# Count the number of duplicate rows in the DataFrame\n",
        "duplicate_count = df_cleaned.duplicated().sum()\n",
        "print(f\"Number of duplicate rows: {duplicate_count}\")\n",
        "\n",
        "# Remove duplicate rows from the DataFrame and create a new DataFrame to avoid SettingWithCopyWarning\n",
        "df_cleaned = df_cleaned.drop_duplicates().copy()\n",
        "\n",
        "# Display the DataFrame after removing duplicates\n",
        "df_cleaned.head()"
      ]
    },
    {
      "cell_type": "markdown",
      "metadata": {},
      "source": [
        "Cleaned dataset"
      ]
    },
    {
      "cell_type": "code",
      "execution_count": 15,
      "metadata": {},
      "outputs": [
        {
          "name": "stdout",
          "output_type": "stream",
          "text": [
            "Cleaned dataset: 524,878 records (17,031 removed)\n"
          ]
        }
      ],
      "source": [
        "print(f\"Cleaned dataset: {len(df_cleaned):,} records ({original_size - len(df_cleaned):,} removed)\")"
      ]
    },
    {
      "cell_type": "markdown",
      "metadata": {},
      "source": [
        "Creating new features \"total transaction value\" and time columns"
      ]
    },
    {
      "cell_type": "code",
      "execution_count": 16,
      "metadata": {},
      "outputs": [
        {
          "data": {
            "application/vnd.microsoft.datawrangler.viewer.v0+json": {
              "columns": [
                {
                  "name": "index",
                  "rawType": "int64",
                  "type": "integer"
                },
                {
                  "name": "InvoiceNo",
                  "rawType": "object",
                  "type": "string"
                },
                {
                  "name": "StockCode",
                  "rawType": "object",
                  "type": "string"
                },
                {
                  "name": "Description",
                  "rawType": "object",
                  "type": "string"
                },
                {
                  "name": "Quantity",
                  "rawType": "int64",
                  "type": "integer"
                },
                {
                  "name": "InvoiceDate",
                  "rawType": "datetime64[ns]",
                  "type": "datetime"
                },
                {
                  "name": "UnitPrice",
                  "rawType": "float64",
                  "type": "float"
                },
                {
                  "name": "CustomerID",
                  "rawType": "int64",
                  "type": "integer"
                },
                {
                  "name": "Country",
                  "rawType": "object",
                  "type": "string"
                },
                {
                  "name": "TotalTransaction",
                  "rawType": "float64",
                  "type": "float"
                },
                {
                  "name": "Year",
                  "rawType": "int32",
                  "type": "integer"
                },
                {
                  "name": "Month",
                  "rawType": "int32",
                  "type": "integer"
                },
                {
                  "name": "DayOfWeek",
                  "rawType": "object",
                  "type": "string"
                },
                {
                  "name": "Hour",
                  "rawType": "int32",
                  "type": "integer"
                },
                {
                  "name": "YearMonth",
                  "rawType": "period[M]",
                  "type": "unknown"
                }
              ],
              "ref": "7c16ff6a-4eb7-4d9c-8a15-b0a11869733e",
              "rows": [
                [
                  "0",
                  "536365",
                  "85123A",
                  "WHITE HANGING HEART T-LIGHT HOLDER",
                  "6",
                  "2010-12-01 08:26:00",
                  "2.55",
                  "17850",
                  "United Kingdom",
                  "15.3",
                  "2010",
                  "12",
                  "Wednesday",
                  "8",
                  "2010-12"
                ],
                [
                  "1",
                  "536365",
                  "71053",
                  "WHITE METAL LANTERN",
                  "6",
                  "2010-12-01 08:26:00",
                  "3.39",
                  "17850",
                  "United Kingdom",
                  "20.34",
                  "2010",
                  "12",
                  "Wednesday",
                  "8",
                  "2010-12"
                ],
                [
                  "2",
                  "536365",
                  "84406B",
                  "CREAM CUPID HEARTS COAT HANGER",
                  "8",
                  "2010-12-01 08:26:00",
                  "2.75",
                  "17850",
                  "United Kingdom",
                  "22.0",
                  "2010",
                  "12",
                  "Wednesday",
                  "8",
                  "2010-12"
                ],
                [
                  "3",
                  "536365",
                  "84029G",
                  "KNITTED UNION FLAG HOT WATER BOTTLE",
                  "6",
                  "2010-12-01 08:26:00",
                  "3.39",
                  "17850",
                  "United Kingdom",
                  "20.34",
                  "2010",
                  "12",
                  "Wednesday",
                  "8",
                  "2010-12"
                ],
                [
                  "4",
                  "536365",
                  "84029E",
                  "RED WOOLLY HOTTIE WHITE HEART.",
                  "6",
                  "2010-12-01 08:26:00",
                  "3.39",
                  "17850",
                  "United Kingdom",
                  "20.34",
                  "2010",
                  "12",
                  "Wednesday",
                  "8",
                  "2010-12"
                ]
              ],
              "shape": {
                "columns": 14,
                "rows": 5
              }
            },
            "text/html": [
              "<div>\n",
              "<style scoped>\n",
              "    .dataframe tbody tr th:only-of-type {\n",
              "        vertical-align: middle;\n",
              "    }\n",
              "\n",
              "    .dataframe tbody tr th {\n",
              "        vertical-align: top;\n",
              "    }\n",
              "\n",
              "    .dataframe thead th {\n",
              "        text-align: right;\n",
              "    }\n",
              "</style>\n",
              "<table border=\"1\" class=\"dataframe\">\n",
              "  <thead>\n",
              "    <tr style=\"text-align: right;\">\n",
              "      <th></th>\n",
              "      <th>InvoiceNo</th>\n",
              "      <th>StockCode</th>\n",
              "      <th>Description</th>\n",
              "      <th>Quantity</th>\n",
              "      <th>InvoiceDate</th>\n",
              "      <th>UnitPrice</th>\n",
              "      <th>CustomerID</th>\n",
              "      <th>Country</th>\n",
              "      <th>TotalTransaction</th>\n",
              "      <th>Year</th>\n",
              "      <th>Month</th>\n",
              "      <th>DayOfWeek</th>\n",
              "      <th>Hour</th>\n",
              "      <th>YearMonth</th>\n",
              "    </tr>\n",
              "  </thead>\n",
              "  <tbody>\n",
              "    <tr>\n",
              "      <th>0</th>\n",
              "      <td>536365</td>\n",
              "      <td>85123A</td>\n",
              "      <td>WHITE HANGING HEART T-LIGHT HOLDER</td>\n",
              "      <td>6</td>\n",
              "      <td>2010-12-01 08:26:00</td>\n",
              "      <td>2.55</td>\n",
              "      <td>17850</td>\n",
              "      <td>United Kingdom</td>\n",
              "      <td>15.30</td>\n",
              "      <td>2010</td>\n",
              "      <td>12</td>\n",
              "      <td>Wednesday</td>\n",
              "      <td>8</td>\n",
              "      <td>2010-12</td>\n",
              "    </tr>\n",
              "    <tr>\n",
              "      <th>1</th>\n",
              "      <td>536365</td>\n",
              "      <td>71053</td>\n",
              "      <td>WHITE METAL LANTERN</td>\n",
              "      <td>6</td>\n",
              "      <td>2010-12-01 08:26:00</td>\n",
              "      <td>3.39</td>\n",
              "      <td>17850</td>\n",
              "      <td>United Kingdom</td>\n",
              "      <td>20.34</td>\n",
              "      <td>2010</td>\n",
              "      <td>12</td>\n",
              "      <td>Wednesday</td>\n",
              "      <td>8</td>\n",
              "      <td>2010-12</td>\n",
              "    </tr>\n",
              "    <tr>\n",
              "      <th>2</th>\n",
              "      <td>536365</td>\n",
              "      <td>84406B</td>\n",
              "      <td>CREAM CUPID HEARTS COAT HANGER</td>\n",
              "      <td>8</td>\n",
              "      <td>2010-12-01 08:26:00</td>\n",
              "      <td>2.75</td>\n",
              "      <td>17850</td>\n",
              "      <td>United Kingdom</td>\n",
              "      <td>22.00</td>\n",
              "      <td>2010</td>\n",
              "      <td>12</td>\n",
              "      <td>Wednesday</td>\n",
              "      <td>8</td>\n",
              "      <td>2010-12</td>\n",
              "    </tr>\n",
              "    <tr>\n",
              "      <th>3</th>\n",
              "      <td>536365</td>\n",
              "      <td>84029G</td>\n",
              "      <td>KNITTED UNION FLAG HOT WATER BOTTLE</td>\n",
              "      <td>6</td>\n",
              "      <td>2010-12-01 08:26:00</td>\n",
              "      <td>3.39</td>\n",
              "      <td>17850</td>\n",
              "      <td>United Kingdom</td>\n",
              "      <td>20.34</td>\n",
              "      <td>2010</td>\n",
              "      <td>12</td>\n",
              "      <td>Wednesday</td>\n",
              "      <td>8</td>\n",
              "      <td>2010-12</td>\n",
              "    </tr>\n",
              "    <tr>\n",
              "      <th>4</th>\n",
              "      <td>536365</td>\n",
              "      <td>84029E</td>\n",
              "      <td>RED WOOLLY HOTTIE WHITE HEART.</td>\n",
              "      <td>6</td>\n",
              "      <td>2010-12-01 08:26:00</td>\n",
              "      <td>3.39</td>\n",
              "      <td>17850</td>\n",
              "      <td>United Kingdom</td>\n",
              "      <td>20.34</td>\n",
              "      <td>2010</td>\n",
              "      <td>12</td>\n",
              "      <td>Wednesday</td>\n",
              "      <td>8</td>\n",
              "      <td>2010-12</td>\n",
              "    </tr>\n",
              "  </tbody>\n",
              "</table>\n",
              "</div>"
            ],
            "text/plain": [
              "  InvoiceNo StockCode                          Description  Quantity  \\\n",
              "0    536365    85123A   WHITE HANGING HEART T-LIGHT HOLDER         6   \n",
              "1    536365     71053                  WHITE METAL LANTERN         6   \n",
              "2    536365    84406B       CREAM CUPID HEARTS COAT HANGER         8   \n",
              "3    536365    84029G  KNITTED UNION FLAG HOT WATER BOTTLE         6   \n",
              "4    536365    84029E       RED WOOLLY HOTTIE WHITE HEART.         6   \n",
              "\n",
              "          InvoiceDate  UnitPrice  CustomerID         Country  \\\n",
              "0 2010-12-01 08:26:00       2.55       17850  United Kingdom   \n",
              "1 2010-12-01 08:26:00       3.39       17850  United Kingdom   \n",
              "2 2010-12-01 08:26:00       2.75       17850  United Kingdom   \n",
              "3 2010-12-01 08:26:00       3.39       17850  United Kingdom   \n",
              "4 2010-12-01 08:26:00       3.39       17850  United Kingdom   \n",
              "\n",
              "   TotalTransaction  Year  Month  DayOfWeek  Hour YearMonth  \n",
              "0             15.30  2010     12  Wednesday     8   2010-12  \n",
              "1             20.34  2010     12  Wednesday     8   2010-12  \n",
              "2             22.00  2010     12  Wednesday     8   2010-12  \n",
              "3             20.34  2010     12  Wednesday     8   2010-12  \n",
              "4             20.34  2010     12  Wednesday     8   2010-12  "
            ]
          },
          "execution_count": 16,
          "metadata": {},
          "output_type": "execute_result"
        }
      ],
      "source": [
        "# Create a new column for total transaction\n",
        "df_cleaned['TotalTransaction'] = (df_cleaned['Quantity'] * df_cleaned['UnitPrice']).round(2)\n",
        "df_cleaned['Year'] = df_cleaned['InvoiceDate'].dt.year        # Extract the year from InvoiceDate\n",
        "df_cleaned['Month'] = df_cleaned['InvoiceDate'].dt.month      # Extract the month (as a number) from InvoiceDate\n",
        "df_cleaned['DayOfWeek'] = df_cleaned['InvoiceDate'].dt.day_name()  # Extract the day of the week (e.g., Monday)\n",
        "df_cleaned['Hour'] = df_cleaned['InvoiceDate'].dt.hour        # Extract the hour from InvoiceDate\n",
        "df_cleaned['YearMonth'] = df_cleaned['InvoiceDate'].dt.to_period('M')  # Extract the year and month as a period (e.g., 2021-05)\n",
        "# Display the cleaned DataFrame\n",
        "df_cleaned.head()"
      ]
    },
    {
      "cell_type": "code",
      "execution_count": 17,
      "metadata": {},
      "outputs": [
        {
          "data": {
            "application/vnd.microsoft.datawrangler.viewer.v0+json": {
              "columns": [
                {
                  "name": "index",
                  "rawType": "object",
                  "type": "string"
                },
                {
                  "name": "0",
                  "rawType": "object",
                  "type": "unknown"
                }
              ],
              "ref": "b8107a42-e415-435f-838f-6fd6ab0cd7a5",
              "rows": [
                [
                  "InvoiceNo",
                  "object"
                ],
                [
                  "StockCode",
                  "object"
                ],
                [
                  "Description",
                  "object"
                ],
                [
                  "Quantity",
                  "int64"
                ],
                [
                  "InvoiceDate",
                  "datetime64[ns]"
                ],
                [
                  "UnitPrice",
                  "float64"
                ],
                [
                  "CustomerID",
                  "int64"
                ],
                [
                  "Country",
                  "object"
                ],
                [
                  "TotalTransaction",
                  "float64"
                ],
                [
                  "Year",
                  "int32"
                ],
                [
                  "Month",
                  "int32"
                ],
                [
                  "DayOfWeek",
                  "object"
                ],
                [
                  "Hour",
                  "int32"
                ],
                [
                  "YearMonth",
                  "period[M]"
                ]
              ],
              "shape": {
                "columns": 1,
                "rows": 14
              }
            },
            "text/plain": [
              "InvoiceNo                   object\n",
              "StockCode                   object\n",
              "Description                 object\n",
              "Quantity                     int64\n",
              "InvoiceDate         datetime64[ns]\n",
              "UnitPrice                  float64\n",
              "CustomerID                   int64\n",
              "Country                     object\n",
              "TotalTransaction           float64\n",
              "Year                         int32\n",
              "Month                        int32\n",
              "DayOfWeek                   object\n",
              "Hour                         int32\n",
              "YearMonth                period[M]\n",
              "dtype: object"
            ]
          },
          "execution_count": 17,
          "metadata": {},
          "output_type": "execute_result"
        }
      ],
      "source": [
        "df_cleaned.dtypes"
      ]
    }
  ],
  "metadata": {
    "accelerator": "GPU",
    "colab": {
      "name": "Data Practitioner Jupyter Notebook.ipynb",
      "provenance": [],
      "toc_visible": true
    },
    "kernelspec": {
      "display_name": ".venv",
      "language": "python",
      "name": "python3"
    },
    "language_info": {
      "codemirror_mode": {
        "name": "ipython",
        "version": 3
      },
      "file_extension": ".py",
      "mimetype": "text/x-python",
      "name": "python",
      "nbconvert_exporter": "python",
      "pygments_lexer": "ipython3",
      "version": "3.12.8"
    },
    "orig_nbformat": 2
  },
  "nbformat": 4,
  "nbformat_minor": 2
}
