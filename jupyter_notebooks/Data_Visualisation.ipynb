{
  "cells": [
    {
      "cell_type": "markdown",
      "metadata": {
        "id": "0aStgWSO0E0E"
      },
      "source": [
        "# ONLINE RETAIL TRANSACTION ANALYSIS - Data Visualisation"
      ]
    },
    {
      "cell_type": "markdown",
      "metadata": {},
      "source": [
        "## Data source: https://www.kaggle.com/datasets/abhishekrp1517/online-retail-transactions-dataset \n",
        "\n",
        "## Data analysis goals\n",
        "\n",
        "Analyse online retail transaction data to understand customer behaviour, identify popular products, and optimise pricing and marketing strategies. Provide insights into customer behaviour, popular products, and pricing strategies to improve sales and marketing efforts.\n",
        "\n",
        "## Context\n",
        "\n",
        "The \"Online Retail Transaction\" dataset contains information on customer transactions made through an online retail platform. It includes data on products purchased, quantities, transaction dates and times, prices, customer identifiers, and customer locations. This dataset can be used to analyse customer behaviour and preferences, identify popular products, and optimise pricing and marketing strategies."
      ]
    },
    {
      "cell_type": "markdown",
      "metadata": {},
      "source": [
        "---"
      ]
    },
    {
      "cell_type": "markdown",
      "metadata": {},
      "source": [
        "Import Packages"
      ]
    },
    {
      "cell_type": "code",
      "execution_count": 1,
      "metadata": {},
      "outputs": [],
      "source": [
        "import numpy as np\n",
        "import pandas as pd\n",
        "import matplotlib.pyplot as plt\n",
        "import seaborn as sns\n",
        "import plotly.express as px"
      ]
    },
    {
      "cell_type": "markdown",
      "metadata": {},
      "source": [
        "Set style for matplotlib and seaborn"
      ]
    },
    {
      "cell_type": "code",
      "execution_count": 2,
      "metadata": {},
      "outputs": [],
      "source": [
        "plt.style.use('seaborn-v0_8')\n",
        "sns.set_palette(\"husl\")"
      ]
    },
    {
      "cell_type": "markdown",
      "metadata": {},
      "source": [
        "Get current working directory"
      ]
    },
    {
      "cell_type": "code",
      "execution_count": 3,
      "metadata": {},
      "outputs": [
        {
          "data": {
            "text/plain": [
              "'c:\\\\Users\\\\Joy\\\\Desktop\\\\Code Institute\\\\IFP\\\\jupyter_notebooks'"
            ]
          },
          "execution_count": 3,
          "metadata": {},
          "output_type": "execute_result"
        }
      ],
      "source": [
        "import os\n",
        "current_dir = os.getcwd()\n",
        "current_dir"
      ]
    },
    {
      "cell_type": "markdown",
      "metadata": {},
      "source": [
        "Make the parent of the current directory the new current directory. "
      ]
    },
    {
      "cell_type": "code",
      "execution_count": 4,
      "metadata": {},
      "outputs": [],
      "source": [
        "os.chdir(os.path.dirname(current_dir))\n",
        "current_dir = os.getcwd()"
      ]
    },
    {
      "cell_type": "code",
      "execution_count": 5,
      "metadata": {},
      "outputs": [
        {
          "data": {
            "text/plain": [
              "'c:\\\\Users\\\\Joy\\\\Desktop\\\\Code Institute\\\\IFP\\\\dataset\\\\processed\\\\Online_Retail_Processed.csv'"
            ]
          },
          "execution_count": 5,
          "metadata": {},
          "output_type": "execute_result"
        }
      ],
      "source": [
        "processed_file_path = current_dir+'\\\\dataset\\\\processed\\\\Online_Retail_Processed.csv'\n",
        "processed_file_path"
      ]
    },
    {
      "cell_type": "markdown",
      "metadata": {},
      "source": [
        "## Load processed data"
      ]
    },
    {
      "cell_type": "code",
      "execution_count": 6,
      "metadata": {},
      "outputs": [
        {
          "data": {
            "application/vnd.microsoft.datawrangler.viewer.v0+json": {
              "columns": [
                {
                  "name": "index",
                  "rawType": "int64",
                  "type": "integer"
                },
                {
                  "name": "InvoiceNo",
                  "rawType": "object",
                  "type": "string"
                },
                {
                  "name": "StockCode",
                  "rawType": "object",
                  "type": "string"
                },
                {
                  "name": "Description",
                  "rawType": "object",
                  "type": "string"
                },
                {
                  "name": "Quantity",
                  "rawType": "int64",
                  "type": "integer"
                },
                {
                  "name": "InvoiceDate",
                  "rawType": "object",
                  "type": "string"
                },
                {
                  "name": "UnitPrice",
                  "rawType": "float64",
                  "type": "float"
                },
                {
                  "name": "CustomerID",
                  "rawType": "int64",
                  "type": "integer"
                },
                {
                  "name": "Country",
                  "rawType": "object",
                  "type": "string"
                },
                {
                  "name": "TotalTransaction",
                  "rawType": "float64",
                  "type": "float"
                },
                {
                  "name": "Year",
                  "rawType": "int64",
                  "type": "integer"
                },
                {
                  "name": "Month",
                  "rawType": "int64",
                  "type": "integer"
                },
                {
                  "name": "DayOfWeek",
                  "rawType": "object",
                  "type": "string"
                },
                {
                  "name": "Hour",
                  "rawType": "int64",
                  "type": "integer"
                },
                {
                  "name": "YearMonth",
                  "rawType": "object",
                  "type": "string"
                }
              ],
              "ref": "40761598-be88-4272-8597-71657cdde1af",
              "rows": [
                [
                  "0",
                  "536365",
                  "85123A",
                  "WHITE HANGING HEART T-LIGHT HOLDER",
                  "6",
                  "2010-12-01 08:26:00",
                  "2.55",
                  "17850",
                  "United Kingdom",
                  "15.3",
                  "2010",
                  "12",
                  "Wednesday",
                  "8",
                  "2010-12"
                ],
                [
                  "1",
                  "536365",
                  "71053",
                  "WHITE METAL LANTERN",
                  "6",
                  "2010-12-01 08:26:00",
                  "3.39",
                  "17850",
                  "United Kingdom",
                  "20.34",
                  "2010",
                  "12",
                  "Wednesday",
                  "8",
                  "2010-12"
                ],
                [
                  "2",
                  "536365",
                  "84406B",
                  "CREAM CUPID HEARTS COAT HANGER",
                  "8",
                  "2010-12-01 08:26:00",
                  "2.75",
                  "17850",
                  "United Kingdom",
                  "22.0",
                  "2010",
                  "12",
                  "Wednesday",
                  "8",
                  "2010-12"
                ],
                [
                  "3",
                  "536365",
                  "84029G",
                  "KNITTED UNION FLAG HOT WATER BOTTLE",
                  "6",
                  "2010-12-01 08:26:00",
                  "3.39",
                  "17850",
                  "United Kingdom",
                  "20.34",
                  "2010",
                  "12",
                  "Wednesday",
                  "8",
                  "2010-12"
                ],
                [
                  "4",
                  "536365",
                  "84029E",
                  "RED WOOLLY HOTTIE WHITE HEART.",
                  "6",
                  "2010-12-01 08:26:00",
                  "3.39",
                  "17850",
                  "United Kingdom",
                  "20.34",
                  "2010",
                  "12",
                  "Wednesday",
                  "8",
                  "2010-12"
                ],
                [
                  "5",
                  "536365",
                  "22752",
                  "SET 7 BABUSHKA NESTING BOXES",
                  "2",
                  "2010-12-01 08:26:00",
                  "7.65",
                  "17850",
                  "United Kingdom",
                  "15.3",
                  "2010",
                  "12",
                  "Wednesday",
                  "8",
                  "2010-12"
                ],
                [
                  "6",
                  "536365",
                  "21730",
                  "GLASS STAR FROSTED T-LIGHT HOLDER",
                  "6",
                  "2010-12-01 08:26:00",
                  "4.25",
                  "17850",
                  "United Kingdom",
                  "25.5",
                  "2010",
                  "12",
                  "Wednesday",
                  "8",
                  "2010-12"
                ],
                [
                  "7",
                  "536366",
                  "22633",
                  "HAND WARMER UNION JACK",
                  "6",
                  "2010-12-01 08:28:00",
                  "1.85",
                  "17850",
                  "United Kingdom",
                  "11.1",
                  "2010",
                  "12",
                  "Wednesday",
                  "8",
                  "2010-12"
                ],
                [
                  "8",
                  "536366",
                  "22632",
                  "HAND WARMER RED POLKA DOT",
                  "6",
                  "2010-12-01 08:28:00",
                  "1.85",
                  "17850",
                  "United Kingdom",
                  "11.1",
                  "2010",
                  "12",
                  "Wednesday",
                  "8",
                  "2010-12"
                ],
                [
                  "9",
                  "536367",
                  "84879",
                  "ASSORTED COLOUR BIRD ORNAMENT",
                  "32",
                  "2010-12-01 08:34:00",
                  "1.69",
                  "13047",
                  "United Kingdom",
                  "54.08",
                  "2010",
                  "12",
                  "Wednesday",
                  "8",
                  "2010-12"
                ],
                [
                  "10",
                  "536367",
                  "22745",
                  "POPPY'S PLAYHOUSE BEDROOM ",
                  "6",
                  "2010-12-01 08:34:00",
                  "2.1",
                  "13047",
                  "United Kingdom",
                  "12.6",
                  "2010",
                  "12",
                  "Wednesday",
                  "8",
                  "2010-12"
                ],
                [
                  "11",
                  "536367",
                  "22748",
                  "POPPY'S PLAYHOUSE KITCHEN",
                  "6",
                  "2010-12-01 08:34:00",
                  "2.1",
                  "13047",
                  "United Kingdom",
                  "12.6",
                  "2010",
                  "12",
                  "Wednesday",
                  "8",
                  "2010-12"
                ],
                [
                  "12",
                  "536367",
                  "22749",
                  "FELTCRAFT PRINCESS CHARLOTTE DOLL",
                  "8",
                  "2010-12-01 08:34:00",
                  "3.75",
                  "13047",
                  "United Kingdom",
                  "30.0",
                  "2010",
                  "12",
                  "Wednesday",
                  "8",
                  "2010-12"
                ],
                [
                  "13",
                  "536367",
                  "22310",
                  "IVORY KNITTED MUG COSY ",
                  "6",
                  "2010-12-01 08:34:00",
                  "1.65",
                  "13047",
                  "United Kingdom",
                  "9.9",
                  "2010",
                  "12",
                  "Wednesday",
                  "8",
                  "2010-12"
                ],
                [
                  "14",
                  "536367",
                  "84969",
                  "BOX OF 6 ASSORTED COLOUR TEASPOONS",
                  "6",
                  "2010-12-01 08:34:00",
                  "4.25",
                  "13047",
                  "United Kingdom",
                  "25.5",
                  "2010",
                  "12",
                  "Wednesday",
                  "8",
                  "2010-12"
                ],
                [
                  "15",
                  "536367",
                  "22623",
                  "BOX OF VINTAGE JIGSAW BLOCKS ",
                  "3",
                  "2010-12-01 08:34:00",
                  "4.95",
                  "13047",
                  "United Kingdom",
                  "14.85",
                  "2010",
                  "12",
                  "Wednesday",
                  "8",
                  "2010-12"
                ],
                [
                  "16",
                  "536367",
                  "22622",
                  "BOX OF VINTAGE ALPHABET BLOCKS",
                  "2",
                  "2010-12-01 08:34:00",
                  "9.95",
                  "13047",
                  "United Kingdom",
                  "19.9",
                  "2010",
                  "12",
                  "Wednesday",
                  "8",
                  "2010-12"
                ],
                [
                  "17",
                  "536367",
                  "21754",
                  "HOME BUILDING BLOCK WORD",
                  "3",
                  "2010-12-01 08:34:00",
                  "5.95",
                  "13047",
                  "United Kingdom",
                  "17.85",
                  "2010",
                  "12",
                  "Wednesday",
                  "8",
                  "2010-12"
                ],
                [
                  "18",
                  "536367",
                  "21755",
                  "LOVE BUILDING BLOCK WORD",
                  "3",
                  "2010-12-01 08:34:00",
                  "5.95",
                  "13047",
                  "United Kingdom",
                  "17.85",
                  "2010",
                  "12",
                  "Wednesday",
                  "8",
                  "2010-12"
                ],
                [
                  "19",
                  "536367",
                  "21777",
                  "RECIPE BOX WITH METAL HEART",
                  "4",
                  "2010-12-01 08:34:00",
                  "7.95",
                  "13047",
                  "United Kingdom",
                  "31.8",
                  "2010",
                  "12",
                  "Wednesday",
                  "8",
                  "2010-12"
                ],
                [
                  "20",
                  "536367",
                  "48187",
                  "DOORMAT NEW ENGLAND",
                  "4",
                  "2010-12-01 08:34:00",
                  "7.95",
                  "13047",
                  "United Kingdom",
                  "31.8",
                  "2010",
                  "12",
                  "Wednesday",
                  "8",
                  "2010-12"
                ],
                [
                  "21",
                  "536368",
                  "22960",
                  "JAM MAKING SET WITH JARS",
                  "6",
                  "2010-12-01 08:34:00",
                  "4.25",
                  "13047",
                  "United Kingdom",
                  "25.5",
                  "2010",
                  "12",
                  "Wednesday",
                  "8",
                  "2010-12"
                ],
                [
                  "22",
                  "536368",
                  "22913",
                  "RED COAT RACK PARIS FASHION",
                  "3",
                  "2010-12-01 08:34:00",
                  "4.95",
                  "13047",
                  "United Kingdom",
                  "14.85",
                  "2010",
                  "12",
                  "Wednesday",
                  "8",
                  "2010-12"
                ],
                [
                  "23",
                  "536368",
                  "22912",
                  "YELLOW COAT RACK PARIS FASHION",
                  "3",
                  "2010-12-01 08:34:00",
                  "4.95",
                  "13047",
                  "United Kingdom",
                  "14.85",
                  "2010",
                  "12",
                  "Wednesday",
                  "8",
                  "2010-12"
                ],
                [
                  "24",
                  "536368",
                  "22914",
                  "BLUE COAT RACK PARIS FASHION",
                  "3",
                  "2010-12-01 08:34:00",
                  "4.95",
                  "13047",
                  "United Kingdom",
                  "14.85",
                  "2010",
                  "12",
                  "Wednesday",
                  "8",
                  "2010-12"
                ],
                [
                  "25",
                  "536369",
                  "21756",
                  "BATH BUILDING BLOCK WORD",
                  "3",
                  "2010-12-01 08:35:00",
                  "5.95",
                  "13047",
                  "United Kingdom",
                  "17.85",
                  "2010",
                  "12",
                  "Wednesday",
                  "8",
                  "2010-12"
                ],
                [
                  "26",
                  "536370",
                  "22728",
                  "ALARM CLOCK BAKELIKE PINK",
                  "24",
                  "2010-12-01 08:45:00",
                  "3.75",
                  "12583",
                  "France",
                  "90.0",
                  "2010",
                  "12",
                  "Wednesday",
                  "8",
                  "2010-12"
                ],
                [
                  "27",
                  "536370",
                  "22727",
                  "ALARM CLOCK BAKELIKE RED ",
                  "24",
                  "2010-12-01 08:45:00",
                  "3.75",
                  "12583",
                  "France",
                  "90.0",
                  "2010",
                  "12",
                  "Wednesday",
                  "8",
                  "2010-12"
                ],
                [
                  "28",
                  "536370",
                  "22726",
                  "ALARM CLOCK BAKELIKE GREEN",
                  "12",
                  "2010-12-01 08:45:00",
                  "3.75",
                  "12583",
                  "France",
                  "45.0",
                  "2010",
                  "12",
                  "Wednesday",
                  "8",
                  "2010-12"
                ],
                [
                  "29",
                  "536370",
                  "21724",
                  "PANDA AND BUNNIES STICKER SHEET",
                  "12",
                  "2010-12-01 08:45:00",
                  "0.85",
                  "12583",
                  "France",
                  "10.2",
                  "2010",
                  "12",
                  "Wednesday",
                  "8",
                  "2010-12"
                ],
                [
                  "30",
                  "536370",
                  "21883",
                  "STARS GIFT TAPE ",
                  "24",
                  "2010-12-01 08:45:00",
                  "0.65",
                  "12583",
                  "France",
                  "15.6",
                  "2010",
                  "12",
                  "Wednesday",
                  "8",
                  "2010-12"
                ],
                [
                  "31",
                  "536370",
                  "10002",
                  "INFLATABLE POLITICAL GLOBE ",
                  "48",
                  "2010-12-01 08:45:00",
                  "0.85",
                  "12583",
                  "France",
                  "40.8",
                  "2010",
                  "12",
                  "Wednesday",
                  "8",
                  "2010-12"
                ],
                [
                  "32",
                  "536370",
                  "21791",
                  "VINTAGE HEADS AND TAILS CARD GAME ",
                  "24",
                  "2010-12-01 08:45:00",
                  "1.25",
                  "12583",
                  "France",
                  "30.0",
                  "2010",
                  "12",
                  "Wednesday",
                  "8",
                  "2010-12"
                ],
                [
                  "33",
                  "536370",
                  "21035",
                  "SET/2 RED RETROSPOT TEA TOWELS ",
                  "18",
                  "2010-12-01 08:45:00",
                  "2.95",
                  "12583",
                  "France",
                  "53.1",
                  "2010",
                  "12",
                  "Wednesday",
                  "8",
                  "2010-12"
                ],
                [
                  "34",
                  "536370",
                  "22326",
                  "ROUND SNACK BOXES SET OF4 WOODLAND ",
                  "24",
                  "2010-12-01 08:45:00",
                  "2.95",
                  "12583",
                  "France",
                  "70.8",
                  "2010",
                  "12",
                  "Wednesday",
                  "8",
                  "2010-12"
                ],
                [
                  "35",
                  "536370",
                  "22629",
                  "SPACEBOY LUNCH BOX ",
                  "24",
                  "2010-12-01 08:45:00",
                  "1.95",
                  "12583",
                  "France",
                  "46.8",
                  "2010",
                  "12",
                  "Wednesday",
                  "8",
                  "2010-12"
                ],
                [
                  "36",
                  "536370",
                  "22659",
                  "LUNCH BOX I LOVE LONDON",
                  "24",
                  "2010-12-01 08:45:00",
                  "1.95",
                  "12583",
                  "France",
                  "46.8",
                  "2010",
                  "12",
                  "Wednesday",
                  "8",
                  "2010-12"
                ],
                [
                  "37",
                  "536370",
                  "22631",
                  "CIRCUS PARADE LUNCH BOX ",
                  "24",
                  "2010-12-01 08:45:00",
                  "1.95",
                  "12583",
                  "France",
                  "46.8",
                  "2010",
                  "12",
                  "Wednesday",
                  "8",
                  "2010-12"
                ],
                [
                  "38",
                  "536370",
                  "22661",
                  "CHARLOTTE BAG DOLLY GIRL DESIGN",
                  "20",
                  "2010-12-01 08:45:00",
                  "0.85",
                  "12583",
                  "France",
                  "17.0",
                  "2010",
                  "12",
                  "Wednesday",
                  "8",
                  "2010-12"
                ],
                [
                  "39",
                  "536370",
                  "21731",
                  "RED TOADSTOOL LED NIGHT LIGHT",
                  "24",
                  "2010-12-01 08:45:00",
                  "1.65",
                  "12583",
                  "France",
                  "39.6",
                  "2010",
                  "12",
                  "Wednesday",
                  "8",
                  "2010-12"
                ],
                [
                  "40",
                  "536370",
                  "22900",
                  " SET 2 TEA TOWELS I LOVE LONDON ",
                  "24",
                  "2010-12-01 08:45:00",
                  "2.95",
                  "12583",
                  "France",
                  "70.8",
                  "2010",
                  "12",
                  "Wednesday",
                  "8",
                  "2010-12"
                ],
                [
                  "41",
                  "536370",
                  "21913",
                  "VINTAGE SEASIDE JIGSAW PUZZLES",
                  "12",
                  "2010-12-01 08:45:00",
                  "3.75",
                  "12583",
                  "France",
                  "45.0",
                  "2010",
                  "12",
                  "Wednesday",
                  "8",
                  "2010-12"
                ],
                [
                  "42",
                  "536370",
                  "22540",
                  "MINI JIGSAW CIRCUS PARADE ",
                  "24",
                  "2010-12-01 08:45:00",
                  "0.42",
                  "12583",
                  "France",
                  "10.08",
                  "2010",
                  "12",
                  "Wednesday",
                  "8",
                  "2010-12"
                ],
                [
                  "43",
                  "536370",
                  "22544",
                  "MINI JIGSAW SPACEBOY",
                  "24",
                  "2010-12-01 08:45:00",
                  "0.42",
                  "12583",
                  "France",
                  "10.08",
                  "2010",
                  "12",
                  "Wednesday",
                  "8",
                  "2010-12"
                ],
                [
                  "44",
                  "536370",
                  "22492",
                  "MINI PAINT SET VINTAGE ",
                  "36",
                  "2010-12-01 08:45:00",
                  "0.65",
                  "12583",
                  "France",
                  "23.4",
                  "2010",
                  "12",
                  "Wednesday",
                  "8",
                  "2010-12"
                ],
                [
                  "45",
                  "536370",
                  "POST",
                  "POSTAGE",
                  "3",
                  "2010-12-01 08:45:00",
                  "18.0",
                  "12583",
                  "France",
                  "54.0",
                  "2010",
                  "12",
                  "Wednesday",
                  "8",
                  "2010-12"
                ],
                [
                  "46",
                  "536371",
                  "22086",
                  "PAPER CHAIN KIT 50'S CHRISTMAS ",
                  "80",
                  "2010-12-01 09:00:00",
                  "2.55",
                  "13748",
                  "United Kingdom",
                  "204.0",
                  "2010",
                  "12",
                  "Wednesday",
                  "9",
                  "2010-12"
                ],
                [
                  "47",
                  "536372",
                  "22632",
                  "HAND WARMER RED POLKA DOT",
                  "6",
                  "2010-12-01 09:01:00",
                  "1.85",
                  "17850",
                  "United Kingdom",
                  "11.1",
                  "2010",
                  "12",
                  "Wednesday",
                  "9",
                  "2010-12"
                ],
                [
                  "48",
                  "536372",
                  "22633",
                  "HAND WARMER UNION JACK",
                  "6",
                  "2010-12-01 09:01:00",
                  "1.85",
                  "17850",
                  "United Kingdom",
                  "11.1",
                  "2010",
                  "12",
                  "Wednesday",
                  "9",
                  "2010-12"
                ],
                [
                  "49",
                  "536373",
                  "85123A",
                  "WHITE HANGING HEART T-LIGHT HOLDER",
                  "6",
                  "2010-12-01 09:02:00",
                  "2.55",
                  "17850",
                  "United Kingdom",
                  "15.3",
                  "2010",
                  "12",
                  "Wednesday",
                  "9",
                  "2010-12"
                ]
              ],
              "shape": {
                "columns": 14,
                "rows": 524878
              }
            },
            "text/html": [
              "<div>\n",
              "<style scoped>\n",
              "    .dataframe tbody tr th:only-of-type {\n",
              "        vertical-align: middle;\n",
              "    }\n",
              "\n",
              "    .dataframe tbody tr th {\n",
              "        vertical-align: top;\n",
              "    }\n",
              "\n",
              "    .dataframe thead th {\n",
              "        text-align: right;\n",
              "    }\n",
              "</style>\n",
              "<table border=\"1\" class=\"dataframe\">\n",
              "  <thead>\n",
              "    <tr style=\"text-align: right;\">\n",
              "      <th></th>\n",
              "      <th>InvoiceNo</th>\n",
              "      <th>StockCode</th>\n",
              "      <th>Description</th>\n",
              "      <th>Quantity</th>\n",
              "      <th>InvoiceDate</th>\n",
              "      <th>UnitPrice</th>\n",
              "      <th>CustomerID</th>\n",
              "      <th>Country</th>\n",
              "      <th>TotalTransaction</th>\n",
              "      <th>Year</th>\n",
              "      <th>Month</th>\n",
              "      <th>DayOfWeek</th>\n",
              "      <th>Hour</th>\n",
              "      <th>YearMonth</th>\n",
              "    </tr>\n",
              "  </thead>\n",
              "  <tbody>\n",
              "    <tr>\n",
              "      <th>0</th>\n",
              "      <td>536365</td>\n",
              "      <td>85123A</td>\n",
              "      <td>WHITE HANGING HEART T-LIGHT HOLDER</td>\n",
              "      <td>6</td>\n",
              "      <td>2010-12-01 08:26:00</td>\n",
              "      <td>2.55</td>\n",
              "      <td>17850</td>\n",
              "      <td>United Kingdom</td>\n",
              "      <td>15.30</td>\n",
              "      <td>2010</td>\n",
              "      <td>12</td>\n",
              "      <td>Wednesday</td>\n",
              "      <td>8</td>\n",
              "      <td>2010-12</td>\n",
              "    </tr>\n",
              "    <tr>\n",
              "      <th>1</th>\n",
              "      <td>536365</td>\n",
              "      <td>71053</td>\n",
              "      <td>WHITE METAL LANTERN</td>\n",
              "      <td>6</td>\n",
              "      <td>2010-12-01 08:26:00</td>\n",
              "      <td>3.39</td>\n",
              "      <td>17850</td>\n",
              "      <td>United Kingdom</td>\n",
              "      <td>20.34</td>\n",
              "      <td>2010</td>\n",
              "      <td>12</td>\n",
              "      <td>Wednesday</td>\n",
              "      <td>8</td>\n",
              "      <td>2010-12</td>\n",
              "    </tr>\n",
              "    <tr>\n",
              "      <th>2</th>\n",
              "      <td>536365</td>\n",
              "      <td>84406B</td>\n",
              "      <td>CREAM CUPID HEARTS COAT HANGER</td>\n",
              "      <td>8</td>\n",
              "      <td>2010-12-01 08:26:00</td>\n",
              "      <td>2.75</td>\n",
              "      <td>17850</td>\n",
              "      <td>United Kingdom</td>\n",
              "      <td>22.00</td>\n",
              "      <td>2010</td>\n",
              "      <td>12</td>\n",
              "      <td>Wednesday</td>\n",
              "      <td>8</td>\n",
              "      <td>2010-12</td>\n",
              "    </tr>\n",
              "    <tr>\n",
              "      <th>3</th>\n",
              "      <td>536365</td>\n",
              "      <td>84029G</td>\n",
              "      <td>KNITTED UNION FLAG HOT WATER BOTTLE</td>\n",
              "      <td>6</td>\n",
              "      <td>2010-12-01 08:26:00</td>\n",
              "      <td>3.39</td>\n",
              "      <td>17850</td>\n",
              "      <td>United Kingdom</td>\n",
              "      <td>20.34</td>\n",
              "      <td>2010</td>\n",
              "      <td>12</td>\n",
              "      <td>Wednesday</td>\n",
              "      <td>8</td>\n",
              "      <td>2010-12</td>\n",
              "    </tr>\n",
              "    <tr>\n",
              "      <th>4</th>\n",
              "      <td>536365</td>\n",
              "      <td>84029E</td>\n",
              "      <td>RED WOOLLY HOTTIE WHITE HEART.</td>\n",
              "      <td>6</td>\n",
              "      <td>2010-12-01 08:26:00</td>\n",
              "      <td>3.39</td>\n",
              "      <td>17850</td>\n",
              "      <td>United Kingdom</td>\n",
              "      <td>20.34</td>\n",
              "      <td>2010</td>\n",
              "      <td>12</td>\n",
              "      <td>Wednesday</td>\n",
              "      <td>8</td>\n",
              "      <td>2010-12</td>\n",
              "    </tr>\n",
              "    <tr>\n",
              "      <th>...</th>\n",
              "      <td>...</td>\n",
              "      <td>...</td>\n",
              "      <td>...</td>\n",
              "      <td>...</td>\n",
              "      <td>...</td>\n",
              "      <td>...</td>\n",
              "      <td>...</td>\n",
              "      <td>...</td>\n",
              "      <td>...</td>\n",
              "      <td>...</td>\n",
              "      <td>...</td>\n",
              "      <td>...</td>\n",
              "      <td>...</td>\n",
              "      <td>...</td>\n",
              "    </tr>\n",
              "    <tr>\n",
              "      <th>524873</th>\n",
              "      <td>581587</td>\n",
              "      <td>22613</td>\n",
              "      <td>PACK OF 20 SPACEBOY NAPKINS</td>\n",
              "      <td>12</td>\n",
              "      <td>2011-12-09 12:50:00</td>\n",
              "      <td>0.85</td>\n",
              "      <td>12680</td>\n",
              "      <td>France</td>\n",
              "      <td>10.20</td>\n",
              "      <td>2011</td>\n",
              "      <td>12</td>\n",
              "      <td>Friday</td>\n",
              "      <td>12</td>\n",
              "      <td>2011-12</td>\n",
              "    </tr>\n",
              "    <tr>\n",
              "      <th>524874</th>\n",
              "      <td>581587</td>\n",
              "      <td>22899</td>\n",
              "      <td>CHILDREN'S APRON DOLLY GIRL</td>\n",
              "      <td>6</td>\n",
              "      <td>2011-12-09 12:50:00</td>\n",
              "      <td>2.10</td>\n",
              "      <td>12680</td>\n",
              "      <td>France</td>\n",
              "      <td>12.60</td>\n",
              "      <td>2011</td>\n",
              "      <td>12</td>\n",
              "      <td>Friday</td>\n",
              "      <td>12</td>\n",
              "      <td>2011-12</td>\n",
              "    </tr>\n",
              "    <tr>\n",
              "      <th>524875</th>\n",
              "      <td>581587</td>\n",
              "      <td>23254</td>\n",
              "      <td>CHILDRENS CUTLERY DOLLY GIRL</td>\n",
              "      <td>4</td>\n",
              "      <td>2011-12-09 12:50:00</td>\n",
              "      <td>4.15</td>\n",
              "      <td>12680</td>\n",
              "      <td>France</td>\n",
              "      <td>16.60</td>\n",
              "      <td>2011</td>\n",
              "      <td>12</td>\n",
              "      <td>Friday</td>\n",
              "      <td>12</td>\n",
              "      <td>2011-12</td>\n",
              "    </tr>\n",
              "    <tr>\n",
              "      <th>524876</th>\n",
              "      <td>581587</td>\n",
              "      <td>23255</td>\n",
              "      <td>CHILDRENS CUTLERY CIRCUS PARADE</td>\n",
              "      <td>4</td>\n",
              "      <td>2011-12-09 12:50:00</td>\n",
              "      <td>4.15</td>\n",
              "      <td>12680</td>\n",
              "      <td>France</td>\n",
              "      <td>16.60</td>\n",
              "      <td>2011</td>\n",
              "      <td>12</td>\n",
              "      <td>Friday</td>\n",
              "      <td>12</td>\n",
              "      <td>2011-12</td>\n",
              "    </tr>\n",
              "    <tr>\n",
              "      <th>524877</th>\n",
              "      <td>581587</td>\n",
              "      <td>22138</td>\n",
              "      <td>BAKING SET 9 PIECE RETROSPOT</td>\n",
              "      <td>3</td>\n",
              "      <td>2011-12-09 12:50:00</td>\n",
              "      <td>4.95</td>\n",
              "      <td>12680</td>\n",
              "      <td>France</td>\n",
              "      <td>14.85</td>\n",
              "      <td>2011</td>\n",
              "      <td>12</td>\n",
              "      <td>Friday</td>\n",
              "      <td>12</td>\n",
              "      <td>2011-12</td>\n",
              "    </tr>\n",
              "  </tbody>\n",
              "</table>\n",
              "<p>524878 rows × 14 columns</p>\n",
              "</div>"
            ],
            "text/plain": [
              "       InvoiceNo StockCode                          Description  Quantity  \\\n",
              "0         536365    85123A   WHITE HANGING HEART T-LIGHT HOLDER         6   \n",
              "1         536365     71053                  WHITE METAL LANTERN         6   \n",
              "2         536365    84406B       CREAM CUPID HEARTS COAT HANGER         8   \n",
              "3         536365    84029G  KNITTED UNION FLAG HOT WATER BOTTLE         6   \n",
              "4         536365    84029E       RED WOOLLY HOTTIE WHITE HEART.         6   \n",
              "...          ...       ...                                  ...       ...   \n",
              "524873    581587     22613          PACK OF 20 SPACEBOY NAPKINS        12   \n",
              "524874    581587     22899         CHILDREN'S APRON DOLLY GIRL          6   \n",
              "524875    581587     23254        CHILDRENS CUTLERY DOLLY GIRL          4   \n",
              "524876    581587     23255      CHILDRENS CUTLERY CIRCUS PARADE         4   \n",
              "524877    581587     22138        BAKING SET 9 PIECE RETROSPOT          3   \n",
              "\n",
              "                InvoiceDate  UnitPrice  CustomerID         Country  \\\n",
              "0       2010-12-01 08:26:00       2.55       17850  United Kingdom   \n",
              "1       2010-12-01 08:26:00       3.39       17850  United Kingdom   \n",
              "2       2010-12-01 08:26:00       2.75       17850  United Kingdom   \n",
              "3       2010-12-01 08:26:00       3.39       17850  United Kingdom   \n",
              "4       2010-12-01 08:26:00       3.39       17850  United Kingdom   \n",
              "...                     ...        ...         ...             ...   \n",
              "524873  2011-12-09 12:50:00       0.85       12680          France   \n",
              "524874  2011-12-09 12:50:00       2.10       12680          France   \n",
              "524875  2011-12-09 12:50:00       4.15       12680          France   \n",
              "524876  2011-12-09 12:50:00       4.15       12680          France   \n",
              "524877  2011-12-09 12:50:00       4.95       12680          France   \n",
              "\n",
              "        TotalTransaction  Year  Month  DayOfWeek  Hour YearMonth  \n",
              "0                  15.30  2010     12  Wednesday     8   2010-12  \n",
              "1                  20.34  2010     12  Wednesday     8   2010-12  \n",
              "2                  22.00  2010     12  Wednesday     8   2010-12  \n",
              "3                  20.34  2010     12  Wednesday     8   2010-12  \n",
              "4                  20.34  2010     12  Wednesday     8   2010-12  \n",
              "...                  ...   ...    ...        ...   ...       ...  \n",
              "524873             10.20  2011     12     Friday    12   2011-12  \n",
              "524874             12.60  2011     12     Friday    12   2011-12  \n",
              "524875             16.60  2011     12     Friday    12   2011-12  \n",
              "524876             16.60  2011     12     Friday    12   2011-12  \n",
              "524877             14.85  2011     12     Friday    12   2011-12  \n",
              "\n",
              "[524878 rows x 14 columns]"
            ]
          },
          "execution_count": 6,
          "metadata": {},
          "output_type": "execute_result"
        }
      ],
      "source": [
        "# Load cleaned dataset\n",
        "df_cleaned = pd.read_csv(processed_file_path, dtype={'InvoiceNo': str})\n",
        "# Preview the first few rows\n",
        "df_cleaned"
      ]
    },
    {
      "cell_type": "markdown",
      "metadata": {},
      "source": [
        "# Descriptive Statistics: Basic statistics"
      ]
    },
    {
      "cell_type": "code",
      "execution_count": 7,
      "metadata": {},
      "outputs": [
        {
          "name": "stdout",
          "output_type": "stream",
          "text": [
            "Total Revenue: 10,642,110.80\n",
            "Total Customers: 4,338\n",
            "Total Products: 3,922\n",
            "Countries Served: 38\n",
            "Average Order Value: 533.17\n",
            "Date Range: 2010-12-01 08:26:00 to 2011-12-09 12:50:00\n"
          ]
        }
      ],
      "source": [
        "total_revenue = df_cleaned['TotalTransaction'].sum()\n",
        "total_customers = df_cleaned['CustomerID'].nunique()\n",
        "total_products = df_cleaned['StockCode'].nunique()\n",
        "total_countries = df_cleaned['Country'].nunique()\n",
        "avg_order_value = df_cleaned.groupby('InvoiceNo')['TotalTransaction'].sum().mean()\n",
        "\n",
        "print(f\"Total Revenue: {total_revenue:,.2f}\")\n",
        "print(f\"Total Customers: {total_customers:,}\")\n",
        "print(f\"Total Products: {total_products:,}\")\n",
        "print(f\"Countries Served: {total_countries}\")\n",
        "print(f\"Average Order Value: {avg_order_value:.2f}\")\n",
        "\n",
        "# Date range\n",
        "print(f\"Date Range: {df_cleaned['InvoiceDate'].min()} to {df_cleaned['InvoiceDate'].max()}\")"
      ]
    },
    {
      "cell_type": "markdown",
      "metadata": {},
      "source": [
        "# Data Visualisation"
      ]
    },
    {
      "cell_type": "markdown",
      "metadata": {},
      "source": [
        "Monthly Sales Trend (Matplotlib)"
      ]
    },
    {
      "cell_type": "code",
      "execution_count": 8,
      "metadata": {},
      "outputs": [
        {
          "data": {
            "image/png": "[encoded data removed]",
            "text/plain": [
              "<Figure size 800x550 with 1 Axes>"
            ]
          },
          "metadata": {},
          "output_type": "display_data"
        }
      ],
      "source": [
        "# Group by each month and sum the total transaction value for each month\n",
        "monthly_sales = df_cleaned.groupby(df_cleaned['YearMonth'])['TotalTransaction'].sum()\n",
        "monthly_sales.plot(kind='line', marker='o', linewidth=2, markersize=6)\n",
        "plt.title('Monthly Sales Trend', fontsize=14, fontweight='bold')\n",
        "plt.xlabel('Month')\n",
        "plt.ylabel('Total Transaction')\n",
        "plt.xticks(rotation=45)\n",
        "plt.grid(True, alpha=0.3)"
      ]
    },
    {
      "cell_type": "markdown",
      "metadata": {},
      "source": [
        "Top 10 Countries by Revenue"
      ]
    },
    {
      "cell_type": "code",
      "execution_count": 9,
      "metadata": {},
      "outputs": [
        {
          "data": {
            "image/png": "[encoded data removed]",
            "text/plain": [
              "<Figure size 800x550 with 1 Axes>"
            ]
          },
          "metadata": {},
          "output_type": "display_data"
        }
      ],
      "source": [
        "country_sales = df_cleaned.groupby('Country')['TotalTransaction'].sum().sort_values(ascending=False).head(10)\n",
        "country_sales.plot(kind='bar', color='skyblue', edgecolor='black')\n",
        "plt.title('Top 10 Countries by Revenue', fontsize=14, fontweight='bold')\n",
        "plt.xlabel('Country')\n",
        "plt.ylabel('Total Revenue')\n",
        "plt.xticks(rotation=45)\n",
        "plt.grid(True, alpha=0.3)"
      ]
    },
    {
      "cell_type": "markdown",
      "metadata": {},
      "source": [
        "Top 10 Products by Quantity Sold"
      ]
    },
    {
      "cell_type": "code",
      "execution_count": 10,
      "metadata": {},
      "outputs": [
        {
          "data": {
            "text/plain": [
              "Text(0, 0.5, 'Product')"
            ]
          },
          "execution_count": 10,
          "metadata": {},
          "output_type": "execute_result"
        },
        {
          "data": {
            "image/png": "[encoded data removed]",
            "text/plain": [
              "<Figure size 800x550 with 1 Axes>"
            ]
          },
          "metadata": {},
          "output_type": "display_data"
        }
      ],
      "source": [
        "product_quantity = df_cleaned.groupby('Description')['Quantity'].sum().sort_values(ascending=False).head(10)\n",
        "product_quantity.plot(kind='barh', color='lightcoral')\n",
        "plt.title('Top 10 Products by Quantity Sold', fontsize=14, fontweight='bold')\n",
        "plt.xlabel('Quantity Sold')\n",
        "plt.ylabel('Product')"
      ]
    },
    {
      "cell_type": "markdown",
      "metadata": {},
      "source": [
        "Customer Purchase Distribution"
      ]
    },
    {
      "cell_type": "code",
      "execution_count": 11,
      "metadata": {},
      "outputs": [
        {
          "data": {
            "text/plain": [
              "Text(0, 0.5, 'Number of Customers')"
            ]
          },
          "execution_count": 11,
          "metadata": {},
          "output_type": "execute_result"
        },
        {
          "data": {
            "image/png": "[encoded data removed]",
            "text/plain": [
              "<Figure size 800x550 with 1 Axes>"
            ]
          },
          "metadata": {},
          "output_type": "display_data"
        }
      ],
      "source": [
        "customer_purchases = df_cleaned.groupby('CustomerID')['TotalTransaction'].sum()\n",
        "plt.hist(customer_purchases, bins=30, color='lightgreen', edgecolor='black', alpha=0.7)\n",
        "plt.title('Customer Purchase Value Distribution', fontsize=14, fontweight='bold')\n",
        "plt.xlabel('Total Purchase Value')\n",
        "plt.ylabel('Number of Customers')"
      ]
    }
  ],
  "metadata": {
    "accelerator": "GPU",
    "colab": {
      "name": "Data Practitioner Jupyter Notebook.ipynb",
      "provenance": [],
      "toc_visible": true
    },
    "kernelspec": {
      "display_name": ".venv",
      "language": "python",
      "name": "python3"
    },
    "language_info": {
      "codemirror_mode": {
        "name": "ipython",
        "version": 3
      },
      "file_extension": ".py",
      "mimetype": "text/x-python",
      "name": "python",
      "nbconvert_exporter": "python",
      "pygments_lexer": "ipython3",
      "version": "3.12.8"
    },
    "orig_nbformat": 2
  },
  "nbformat": 4,
  "nbformat_minor": 2
}
